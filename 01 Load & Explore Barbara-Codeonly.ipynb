{
 "cells": [
  {
   "cell_type": "markdown",
   "id": "bf8a7ab2",
   "metadata": {},
   "source": [
    "The Santa Barbara scene, taken on the years 2013 and 2014 with the AVIRIS sensor over the Santa Barbara region (California) whose spatial dimensions are 984 x 740 pixels and includes 224 spectral bands.\n",
    "\n",
    "- barbara_2013.mat: \t\toriginal image.\t\t\t740x984x224 \n",
    "\n",
    "- barbara_2014.mat:\t\tchanged image.\t\t\t740x984x224 \n",
    "\n",
    "- barbara_gtChanges.mat:\treference data of changes.\t740x984x1 "
   ]
  },
  {
   "cell_type": "code",
   "execution_count": null,
   "id": "5694182a",
   "metadata": {},
   "outputs": [],
   "source": [
    "import numpy as np\n",
    "import pandas as pd\n",
    "import matplotlib.pyplot as plt\n",
    "\n",
    "from sklearn.preprocessing import StandardScaler\n",
    "from sklearn.model_selection import train_test_split\n",
    "from sklearn.svm import SVC\n",
    "from sklearn.metrics import accuracy_score, classification_report, confusion_matrix"
   ]
  },
  {
   "cell_type": "code",
   "execution_count": null,
   "id": "3d107b08",
   "metadata": {},
   "outputs": [],
   "source": [
    "from scipy.io import loadmat\n",
    "barbara= loadmat('barbara_2013.mat')"
   ]
  },
  {
   "cell_type": "code",
   "execution_count": null,
   "id": "80fcb622",
   "metadata": {},
   "outputs": [],
   "source": [
    "barbara.keys()"
   ]
  },
  {
   "cell_type": "code",
   "execution_count": null,
   "id": "07fe5b2a",
   "metadata": {},
   "outputs": [],
   "source": [
    "barbara = barbara['HypeRvieW']\n",
    "barbara.shape"
   ]
  },
  {
   "cell_type": "code",
   "execution_count": null,
   "id": "4a11c53b",
   "metadata": {},
   "outputs": [],
   "source": [
    "type(barbara)"
   ]
  },
  {
   "cell_type": "code",
   "execution_count": null,
   "id": "585eddc7",
   "metadata": {},
   "outputs": [],
   "source": [
    "#barbara[:,:,0].shape表示对barbara数组进行索引，取出所有行和列，并且只保留通道为0的那一层。.shape是用来获取数组的形状的属性。\n",
    "#具体地，barbara[:,:,0]将返回一个新的数组，它只包含barbara数组的第一个通道的所有元素。然后，.shape将返回这个新数组的形状。\n",
    "barbara[:,:,0].shape"
   ]
  },
  {
   "cell_type": "code",
   "execution_count": null,
   "id": "0b914779",
   "metadata": {},
   "outputs": [],
   "source": [
    "#找到数组中的最大值\n",
    "barbara.max()"
   ]
  },
  {
   "cell_type": "code",
   "execution_count": null,
   "id": "45966ab1",
   "metadata": {},
   "outputs": [],
   "source": [
    "barbara.min()"
   ]
  },
  {
   "cell_type": "code",
   "execution_count": null,
   "id": "f8bbdef2",
   "metadata": {},
   "outputs": [],
   "source": [
    "barbara"
   ]
  },
  {
   "cell_type": "code",
   "execution_count": null,
   "id": "baa31aa1",
   "metadata": {
    "scrolled": false
   },
   "outputs": [],
   "source": [
    "barbara_gt = loadmat('barbara_gtChanges.mat')\n",
    "print(barbara_gt.keys())"
   ]
  },
  {
   "cell_type": "code",
   "execution_count": null,
   "id": "cf96b27d",
   "metadata": {},
   "outputs": [],
   "source": [
    "barbara_gt = barbara_gt['HypeRvieW']\n",
    "barbara_gt.shape"
   ]
  },
  {
   "cell_type": "code",
   "execution_count": null,
   "id": "47e8f483",
   "metadata": {},
   "outputs": [],
   "source": [
    "barbara_gt"
   ]
  },
  {
   "cell_type": "code",
   "execution_count": null,
   "id": "fa0e77b7",
   "metadata": {},
   "outputs": [],
   "source": [
    "np.unique(barbara_gt)"
   ]
  },
  {
   "cell_type": "code",
   "execution_count": null,
   "id": "8231787f",
   "metadata": {},
   "outputs": [],
   "source": [
    "df_barbara_gt = pd.DataFrame(barbara_gt)\n",
    "df_barbara_gt"
   ]
  },
  {
   "cell_type": "code",
   "execution_count": null,
   "id": "33f3a655",
   "metadata": {},
   "outputs": [],
   "source": [
    "df_barbara_gt.to_csv(\"df_barbara_gt.csv\", index = False)"
   ]
  },
  {
   "cell_type": "code",
   "execution_count": null,
   "id": "4ffc6518",
   "metadata": {
    "scrolled": true
   },
   "outputs": [],
   "source": [
    "barbara_gt.ravel().shape"
   ]
  },
  {
   "cell_type": "markdown",
   "id": "57f48e68",
   "metadata": {},
   "source": [
    "# 读取数据"
   ]
  },
  {
   "cell_type": "code",
   "execution_count": null,
   "id": "0719f65c",
   "metadata": {},
   "outputs": [],
   "source": [
    "X = barbara\n",
    "y = barbara_gt\n",
    "print(f\"X shape: {X.shape}\\ny shape: {y.shape}\")"
   ]
  },
  {
   "cell_type": "code",
   "execution_count": null,
   "id": "b7d4c027",
   "metadata": {},
   "outputs": [],
   "source": [
    "#随机生成波段，并展示该波段的图像\n",
    "import seaborn as sns\n",
    "sns.axes_style('whitegrid')\n",
    "fig = plt.figure(figsize=(12, 6))\n",
    "\n",
    "for i in range(1, 1+6):\n",
    "    fig.add_subplot(2, 3, i)\n",
    "    q = np.random.randint(X.shape[2])\n",
    "    plt.imshow(X[:, :, q], cmap='jet')\n",
    "    plt.axis('off')\n",
    "    plt.title(f'band - {q}')"
   ]
  },
  {
   "cell_type": "code",
   "execution_count": null,
   "id": "4d321e97",
   "metadata": {},
   "outputs": [],
   "source": [
    "!pip install plotly\n",
    "import plotly.express as px\n",
    "\n",
    "#Plotly是一个用于创建交互式可视化图表的Python库。它提供了多种图表类型和丰富的配置选项，使用户能够创建高质量、可交互的图表和数据可视化。\n",
    "\n",
    "cls = px.imshow(y, color_continuous_scale='jet')\n",
    "\n",
    "#jet颜色连续比例尺在数据可视化中常用于表示数值的大小或强度。\n",
    "#一些常用比例尺：jet viridis plasma inferno magma coolwarm\n",
    "\n",
    "cls.update_layout(title='Ground Truth', coloraxis_showscale=True)\n",
    "cls.update_xaxes(showticklabels=False)\n",
    "cls.update_yaxes(showticklabels=False)\n",
    "cls.show()"
   ]
  },
  {
   "cell_type": "markdown",
   "id": "28390137",
   "metadata": {},
   "source": [
    "### 将图像转化为CSV存储"
   ]
  },
  {
   "cell_type": "code",
   "execution_count": null,
   "id": "d1854199",
   "metadata": {},
   "outputs": [],
   "source": [
    "def extract_pixels(X, y, save_name='barbara_all'):\n",
    "    q = X.reshape(-1, X.shape[2])\n",
    "    df = pd.DataFrame(q)\n",
    "    df = pd.concat([df, pd.DataFrame(y.ravel())], axis=1)\n",
    "    df.columns= [f'band{i}' for i in range(1, 1+X.shape[2])]+['class']\n",
    "    df.to_csv(f'dataset/{save_name}.csv', index=False)\n",
    "    \n",
    "    return df\n",
    "\n",
    "#将X数组重新整形为一个二维数组，其中第一维表示像素点的数量，第二维表示每个像素点的波段值。"
   ]
  },
  {
   "cell_type": "code",
   "execution_count": null,
   "id": "c139ec09",
   "metadata": {},
   "outputs": [],
   "source": [
    "df = extract_pixels(X, y, save_name='barbara_all')\n",
    "df\n",
    "#提取的像素数据会被赋值给变量 df，成为一个DataFrame对象"
   ]
  },
  {
   "cell_type": "code",
   "execution_count": null,
   "id": "2c7b463d",
   "metadata": {},
   "outputs": [],
   "source": [
    "df.info()\n",
    "#打印出DataFrame的基本信息，包括每列的名称、数据类型和非空值数量等"
   ]
  },
  {
   "cell_type": "code",
   "execution_count": null,
   "id": "399aad13",
   "metadata": {
    "scrolled": true
   },
   "outputs": [],
   "source": [
    "df.iloc[:, :-1].describe()\n",
    "#对DataFrame对象 df 进行切片操作，选择除了最后一列之外的所有列。\n",
    "#.describe() 是DataFrame对象的一个方法，用于生成关于数据的统计描述信息。"
   ]
  },
  {
   "cell_type": "markdown",
   "id": "054ead1f",
   "metadata": {},
   "source": [
    "## PCA"
   ]
  },
  {
   "cell_type": "markdown",
   "id": "e9e91090",
   "metadata": {},
   "source": [
    "由于HSI数据集具有较高的维度，因此难以处理庞大的数据。 因此，使用主成分分析（PCA）将数据的维数缩减为3D，这是一种流行且广泛使用的降维技术。 以下代码用于将数据集的尺寸减少为三个。"
   ]
  },
  {
   "cell_type": "code",
   "execution_count": null,
   "id": "dbf6cba5",
   "metadata": {},
   "outputs": [],
   "source": [
    "from sklearn.decomposition import PCA\n",
    "\n",
    "pca_components = 85\n",
    "\n",
    "pca = PCA(n_components = pca_components)\n",
    "data = df.iloc[:, :-1].values\n",
    "dt = pca.fit_transform(data)\n",
    "\n",
    "ev=pca.explained_variance_ratio_\n",
    "\n",
    "plt.figure(figsize=(12, 6))\n",
    "plt.plot(np.cumsum(ev))\n",
    "plt.xlabel('Number of components')\n",
    "plt.ylabel('Cumulative explained variance')\n",
    "\n",
    "plt.show()\n",
    "\n",
    "#使用matplotlib库绘制了一个图表，图表的横坐标是主成分的数量，纵坐标是累计解释方差的比例。\n",
    "#通过plt.plot(np.cumsum(ev))绘制了累计解释方差的比例曲线。\n",
    "#np.cumsum(ev)是将每个主成分的方差比例进行累积求和。plt.xlabel('Number of components')和plt.ylabel('Cumulative explained variance')设置了横坐标和纵坐标的标签。"
   ]
  },
  {
   "cell_type": "code",
   "execution_count": null,
   "id": "13751da0",
   "metadata": {},
   "outputs": [],
   "source": [
    "pca_components = 40\n",
    "\n",
    "pca = PCA(n_components = pca_components)\n",
    "dt = pca.fit_transform(df.iloc[:, :-1].values)\n",
    "q = pd.concat([pd.DataFrame(data = dt), pd.DataFrame(data = y.ravel())], axis = 1)\n",
    "q.columns = [f'PC-{i}' for i in range(1, pca_components+1)]+['class']\n",
    "q.head()\n",
    "#这段代码的目的是进行主成分分析，并将降维后的数据与标签数据合并到一个新的DataFrame对象中，并为该对象设置列名。"
   ]
  },
  {
   "cell_type": "markdown",
   "id": "8632c883",
   "metadata": {},
   "source": [
    "### 可视化PCA之后的光谱图"
   ]
  },
  {
   "cell_type": "code",
   "execution_count": null,
   "id": "697a49ac",
   "metadata": {},
   "outputs": [],
   "source": [
    "print(q.loc[:, f'PC-{i}'].values.shape)"
   ]
  },
  {
   "cell_type": "code",
   "execution_count": null,
   "id": "6030061e",
   "metadata": {},
   "outputs": [],
   "source": [
    "fig = plt.figure(figsize = (20, 10))\n",
    "\n",
    "for i in range(1, 1+8):\n",
    "    fig.add_subplot(2,4, i)\n",
    "    plt.imshow(q.loc[:, f'PC-{i}'].values.reshape(984, 740), cmap='nipy_spectral')\n",
    "#获取名为q的DataFrame,选择q中的所有行和名为PC-i的列,并将其转换为一个二维数组。\n",
    "    plt.axis('off')\n",
    "    plt.title(f'Band - {i}')\n",
    "\n",
    "plt.savefig('IP_PCA_Bands.png')\n",
    "\n",
    "#这段代码使用Matplotlib库创建一个包含8个子图的图表，每个子图显示一个不同的波段图像。\n",
    "#图表的大小设置为20x10英寸。代码将每个子图添加到2x4的网格中，并将对应波段的图像绘制在每个子图中。"
   ]
  },
  {
   "cell_type": "code",
   "execution_count": null,
   "id": "3a1b3a69",
   "metadata": {},
   "outputs": [],
   "source": [
    "# saving to .csv\n",
    "q.to_csv('IP_40_PCA.csv', index=False)"
   ]
  },
  {
   "cell_type": "markdown",
   "id": "b2788ebf",
   "metadata": {},
   "source": [
    "## SVM"
   ]
  },
  {
   "cell_type": "code",
   "execution_count": null,
   "id": "ac2ea744",
   "metadata": {},
   "outputs": [],
   "source": [
    "x = q[q['class'] != 0]\n",
    "X = x.iloc[:, :-1].values\n",
    "y = x.loc[:, 'class'].values "
   ]
  },
  {
   "cell_type": "code",
   "execution_count": null,
   "id": "d9d9d5c5",
   "metadata": {},
   "outputs": [],
   "source": [
    "X_train, X_test, y_train, y_test = train_test_split(X, y, test_size=0.20, random_state=11, stratify=y)\n",
    "svm = SVC(C=100, kernel='rbf', cache_size=10*1024)\n",
    "svm.fit(X_train, y_train)\n",
    "ypred = svm.predict(X_test)"
   ]
  },
  {
   "cell_type": "code",
   "execution_count": null,
   "id": "073bdc44",
   "metadata": {},
   "outputs": [],
   "source": [
    "names = ['changed pixels','unchanged pixels']"
   ]
  },
  {
   "cell_type": "code",
   "execution_count": null,
   "id": "a8a823b5",
   "metadata": {},
   "outputs": [],
   "source": [
    "data = confusion_matrix(y_test, ypred)\n",
    "df_cm = pd.DataFrame(data, columns=np.unique(names), index = np.unique(names))\n",
    "df_cm.index.name = 'Actual'\n",
    "df_cm.columns.name = 'Predicted'\n",
    "\n",
    "plt.figure(figsize = (5,4))\n",
    "sns.set(font_scale=1.0)#for label size\n",
    "sns.heatmap(df_cm, cmap=\"Greens\", annot=True,annot_kws={\"size\": 16}, fmt='d')\n",
    "\n",
    "plt.savefig('cmap.png', dpi=300)"
   ]
  },
  {
   "cell_type": "code",
   "execution_count": null,
   "id": "786822af",
   "metadata": {},
   "outputs": [],
   "source": [
    "print(classification_report(y_test, ypred, target_names = names))"
   ]
  },
  {
   "cell_type": "code",
   "execution_count": null,
   "id": "5ccd922e",
   "metadata": {},
   "outputs": [],
   "source": [
    "# Classification Map\n",
    "l = []\n",
    "for i in range(len(q)):\n",
    "    if q.iloc[i, -1] == 0:\n",
    "        l.append(0)\n",
    "    else:\n",
    "        l.append(svm.predict(q.iloc[i, :-1].values.reshape(1, -1))[0])"
   ]
  },
  {
   "cell_type": "code",
   "execution_count": null,
   "id": "29466ea3",
   "metadata": {},
   "outputs": [],
   "source": [
    "clmap = np.array(l).reshape(984, 740).astype('float')\n",
    "plt.figure(figsize=(10, 8))\n",
    "plt.imshow(clmap, cmap='jet')"
   ]
  },
  {
   "cell_type": "code",
   "execution_count": null,
   "id": "09a64e8b",
   "metadata": {},
   "outputs": [],
   "source": [
    "# 真实数据\n",
    "y = barbara_gt\n",
    "\n",
    "plt.figure(figsize=(10, 8))\n",
    "plt.imshow(y, cmap='jet')\n",
    "plt.colorbar()\n",
    "plt.axis('off')\n",
    "plt.savefig('IP_cmap.png')\n",
    "plt.show()"
   ]
  },
  {
   "cell_type": "markdown",
   "id": "01066eca",
   "metadata": {},
   "source": [
    "## 可视化"
   ]
  },
  {
   "cell_type": "code",
   "execution_count": null,
   "id": "c4ed489b",
   "metadata": {},
   "outputs": [],
   "source": [
    "class_labels = {'1':'changed pixels',\n",
    "                '2':'unchanged pixels',\n",
    "               }"
   ]
  },
  {
   "cell_type": "code",
   "execution_count": null,
   "id": "aa8bcb42",
   "metadata": {},
   "outputs": [],
   "source": [
    "q2 = q[q['class'] != 0]\n",
    "# 添加真实标签列：将数值标签映射到对应的真实标签\n",
    "q2['label'] = q2.loc[:, 'class'].apply(lambda x: class_labels[str(x)])"
   ]
  },
  {
   "cell_type": "code",
   "execution_count": null,
   "id": "d80af97a",
   "metadata": {},
   "outputs": [],
   "source": [
    "q2['label'].value_counts()"
   ]
  },
  {
   "cell_type": "code",
   "execution_count": null,
   "id": "7eeec8df",
   "metadata": {},
   "outputs": [],
   "source": [
    "q2.head()"
   ]
  },
  {
   "cell_type": "code",
   "execution_count": null,
   "id": "5c2445e0",
   "metadata": {},
   "outputs": [],
   "source": [
    "import plotly.express as px\n",
    "count = q2['class'].value_counts()\n",
    "bar_fig = px.bar(x=count.index[1:], y=count[1:], labels=class_labels, color=count.index[1:])\n",
    "bar_fig.update_layout(xaxis = dict(title='Class', \n",
    "                                   tickmode='array', \n",
    "                                   tickvals=count.index[1:].tolist(), \n",
    "                                   tickangle = 45,\n",
    "                                  ),\n",
    "                      yaxis = dict(title='count',),\n",
    "                      showlegend=True\n",
    "                     )\n",
    "bar_fig.show()"
   ]
  },
  {
   "cell_type": "code",
   "execution_count": null,
   "id": "04656509",
   "metadata": {},
   "outputs": [],
   "source": [
    "q2['label'].value_counts().min()"
   ]
  },
  {
   "cell_type": "code",
   "execution_count": null,
   "id": "5afb55c7",
   "metadata": {},
   "outputs": [],
   "source": [
    "# 重采样一部分样本以便可视化\n",
    "# sampling dataset\n",
    "sample_size = q2['label'].value_counts().min()\n",
    "sample = q2.groupby('class').apply(lambda x: x.sample(sample_size))\n",
    "sample"
   ]
  },
  {
   "cell_type": "code",
   "execution_count": null,
   "id": "5e753310",
   "metadata": {},
   "outputs": [],
   "source": [
    "fig = px.scatter(sample, x=\"PC-1\", y=\"PC-2\", size=\"class\", color=\"label\",\n",
    "                 hover_name=\"label\", log_x=True, size_max=12)\n",
    "fig.show()"
   ]
  },
  {
   "cell_type": "code",
   "execution_count": null,
   "id": "d83c7914",
   "metadata": {},
   "outputs": [],
   "source": [
    "scatter_3d = px.scatter_3d(sample, x=\"PC-1\", y=\"PC-2\", z=\"PC-3\", \n",
    "                           color=\"label\", size=\"class\", hover_name=\"label\",symbol=\"label\")\n",
    "# color_discrete_map = {\"Joly\": \"blue\", \"Bergeron\": \"green\", \"Coderre\":\"red\"})\n",
    "scatter_3d.show()\n",
    "# py.plot(scatter_3d, filename = 'scatter_3d', auto_open=True)"
   ]
  },
  {
   "cell_type": "markdown",
   "id": "276a8b5c",
   "metadata": {},
   "source": [
    "堆叠面积图适用于可视化“部分-整体”的关系，这有助于展现各分类及总体的发展趋势和相互之间的关系。\n",
    "\n",
    "层叠面积图上最大的面积代表了所有数据量的总和，是一个整体。各个叠起来的面积表示各个数据量的大小，这些堆叠起来的面积图在表现大数据的总分量的变化情况时格外有用，所以层叠面积图非常适用于对比多变量随时间变化的情况。层叠面积图并不能反映总量的变化，但是可以清晰的反应每个数值所占百分比随时间或类别变化的趋势线，这对于分析自变量是大数据、时变数据、有序数据时各个指标分量占比极为有用。\n",
    "\n",
    ">ref:https://www.edrawsoft.cn/what-is-area-chart/mianjitu"
   ]
  },
  {
   "cell_type": "code",
   "execution_count": null,
   "id": "244c45db",
   "metadata": {},
   "outputs": [],
   "source": [
    "area_plt1 = px.area(sample, x=\"PC-1\", y=\"PC-2\", color=\"label\", line_group=\"label\")\n",
    "area_plt1.show()\n",
    "# py.plot(area_plt1, filename = 'area_plt1', auto_open=True)"
   ]
  },
  {
   "cell_type": "code",
   "execution_count": null,
   "id": "7b7c9970",
   "metadata": {},
   "outputs": [],
   "source": [
    "area_plt2 = px.area(sample, x=\"PC-1\", y=\"PC-3\", color=\"label\", line_group=\"label\")\n",
    "area_plt2.show()\n",
    "# py.plot(area_plt2, filename = 'area_plt2', auto_open=True)"
   ]
  },
  {
   "cell_type": "code",
   "execution_count": null,
   "id": "96fbfe6a",
   "metadata": {},
   "outputs": [],
   "source": [
    "area_plt3 = px.area(sample, x=\"PC-2\", y=\"PC-3\", color=\"label\", line_group=\"label\")\n",
    "area_plt3.show()\n",
    "# py.plot(area_plt3, filename = 'area_plt2', auto_open=True)"
   ]
  },
  {
   "cell_type": "code",
   "execution_count": null,
   "id": "5da7b954",
   "metadata": {},
   "outputs": [],
   "source": [
    "pair = px.scatter_matrix(sample, dimensions=[\"PC-1\", \"PC-2\", \"PC-3\"], color=\"label\")\n",
    "pair.show()\n",
    "# py.plot(pair, filename = 'pair_plot_pc', auto_open=True)"
   ]
  },
  {
   "cell_type": "code",
   "execution_count": null,
   "id": "9ff61526",
   "metadata": {},
   "outputs": [],
   "source": [
    "np.linspace(-100, 100, 20, dtype=int).shape"
   ]
  },
  {
   "cell_type": "code",
   "execution_count": null,
   "id": "593c49bf",
   "metadata": {},
   "outputs": [],
   "source": [
    "x = np.linspace(-100, 100, 20, dtype=int)\n",
    "y = 1.0/(1 + np.exp(-x))"
   ]
  },
  {
   "cell_type": "code",
   "execution_count": null,
   "id": "38cd7f74",
   "metadata": {},
   "outputs": [],
   "source": [
    "plt.plot(x,y)"
   ]
  }
 ],
 "metadata": {
  "kernelspec": {
   "display_name": "Python 3 (ipykernel)",
   "language": "python",
   "name": "python3"
  },
  "language_info": {
   "codemirror_mode": {
    "name": "ipython",
    "version": 3
   },
   "file_extension": ".py",
   "mimetype": "text/x-python",
   "name": "python",
   "nbconvert_exporter": "python",
   "pygments_lexer": "ipython3",
   "version": "3.11.3"
  }
 },
 "nbformat": 4,
 "nbformat_minor": 5
}
