{
 "cells": [
  {
   "cell_type": "code",
   "execution_count": 1,
   "metadata": {},
   "outputs": [],
   "source": [
    "##This is a pytorch implement for HybridSN \n",
    "import torch\n",
    "import torch.nn as nn\n",
    "from torch.utils.data import Dataset, DataLoader\n",
    "from torchinfo import summary\n",
    "import numpy as np\n",
    "import matplotlib.pyplot as plt\n",
    "import spectral\n",
    "import random\n",
    "from sklearn.decomposition import PCA\n",
    "from sklearn.model_selection import train_test_split\n",
    "from sklearn.metrics import classification_report,recall_score,cohen_kappa_score,accuracy_score\n",
    "from scipy.io import loadmat\n",
    "import os\n",
    "from tqdm.notebook import tqdm\n",
    "%matplotlib inline"
   ]
  },
  {
   "cell_type": "markdown",
   "metadata": {},
   "source": [
    "torch：PyTorch 深度学习框架，用于构建神经网络模型和进行深度学习任务。\n",
    "\n",
    "torch.nn：PyTorch 中用于构建神经网络的模块。\n",
    "\n",
    "torch.utils.data：PyTorch 中用于处理数据集和数据加载的模块。\n",
    "\n",
    "torchinfo：一个用于获取 PyTorch 模型信息的库，可以查看模型的结构和参数数量等信息。\n",
    "\n",
    "os：Python 中用于提供与操作系统交互的功能的库。\n",
    "\n",
    "tqdm.notebook：一个用于在 Jupyter Notebook 中显示循环进度条的库。"
   ]
  },
  {
   "cell_type": "code",
   "execution_count": 2,
   "metadata": {},
   "outputs": [],
   "source": [
    "##hypeperameters and experimental settings\n",
    "RANDOM_SEED=666\n",
    "DATASET = 'Houston13'    \n",
    "TRAIN_RATE = 0.3  ## ratio of training data\n",
    "VAL_RATE = 0.1    ## ratio of valuating data\n",
    "EPOCH = 100    ##number of epoch\n",
    "VAL_EPOCH = 5  ##interval of valuation\n",
    "LR = 0.001    ##learning rate\n",
    "WEIGHT_DECAY = 1e-6  \n",
    "BATCH_SIZE = 256\n",
    "DEVICE = 0  ##-1:CPU  0:cuda 0\n",
    "N_PCA = 15  ## reserved PCA components\n",
    "PATCH_SIZE = 25 \n",
    "SAVE_PATH = f\"results\\\\{DATASET}\"\n",
    "if not os.path.isdir(SAVE_PATH):\n",
    "    os.mkdir(SAVE_PATH)"
   ]
  },
  {
   "cell_type": "markdown",
   "metadata": {},
   "source": [
    "RANDOM_SEED=666：设置了一个随机种子，用于在需要随机性的地方确保实验的可重复性。\n",
    "\n",
    "DATASET = 'SA'：指定了数据集的名称。\n",
    "\n",
    "TRAIN_RATE = 0.3：设置了训练数据集所占整体数据集的比例，这里是 30%。\n",
    "\n",
    "VAL_RATE = 0.1：设置了验证数据集所占整体数据集的比例，这里是 10%。\n",
    "\n",
    "EPOCH = 100：设置了训练的轮数，也就是训练的迭代次数。\n",
    "\n",
    "VAL_EPOCH = 5：设置了每隔多少个 epoch 进行一次验证（evaluation）。\n",
    "\n",
    "LR = 0.001：设置了学习率，用于控制模型参数更新的步长。\n",
    "\n",
    ">学习率（Learning Rate，LR）是深度学习中的一个重要超参数，用于控制模型在每次迭代中更新权重的步长大小。在训练神经网络时，通过梯度下降算法来更新模型的权重，学习率决定了在每次更新中权重应该移动的距离。\n",
    "\n",
    "WEIGHT_DECAY = 1e-6：设置了权重衰减（weight decay）的值，用于控制模型参数的正则化。\n",
    ">权重衰减（Weight Decay）是一种常用的正则化技术，用于减小模型的复杂度，防止过拟合。在神经网络的训练过程中，权重衰减通过对损失函数添加一个正则化项来实现。这个正则化项通常是权重的平方和或者绝对值的和，乘以一个称为权重衰减系数（通常用 λ 表示）的常数。\n",
    "\n",
    "BATCH_SIZE = 256：设置了每个批次（batch）中包含的样本数量。\n",
    "\n",
    "DEVICE = 0：指定了模型训练的设备，-1 表示使用 CPU，0 表示使用 CUDA 设备 0（GPU）。\n",
    "\n",
    "N_PCA = 15：设置了保留的 PCA 主成分的数量。\n",
    "\n",
    "PATCH_SIZE = 25：设置了图像或数据的块（patch）的大小。\n",
    "\n",
    "SAVE_PATH = f\"results\\\\{DATASET}\"：根据数据集的名称构建了保存结果的文件夹路径。\n",
    ">这行代码是Python中的字符串格式化语法，用于生成保存路径。假设在代码中已经定义了变量DATASET，表示数据集的名称，那么这行代码会将数据集的名称插入到字符串中，生成一个保存路径。\n",
    "\n",
    ">具体来说，f\"results\\\\{DATASET}\" 中的 f 表示这是一个格式化字符串，{DATASET} 是一个占位符，表示将变量 DATASET 的值插入到这个位置。假设 DATASET 的值为 \"my_dataset\"，那么这行代码的结果就是 \"results\\\\my_dataset\"。\n",
    "\n",
    "if not os.path.isdir(SAVE_PATH): os.mkdir(SAVE_PATH)：检查保存结果的文件夹是否存在，如果不存在则创建该文件夹。"
   ]
  },
  {
   "cell_type": "code",
   "execution_count": 3,
   "metadata": {},
   "outputs": [],
   "source": [
    "## Set random seed for reproduction\n",
    "random.seed(RANDOM_SEED)\n",
    "torch.manual_seed(RANDOM_SEED)\n",
    "torch.cuda.manual_seed(RANDOM_SEED)\n",
    "torch.cuda.manual_seed_all(RANDOM_SEED)\n",
    "np.random.seed(RANDOM_SEED)\n",
    "torch.backends.cudnn.deterministic = True\n",
    "torch.backends.cudnn.benchmark = False"
   ]
  },
  {
   "cell_type": "markdown",
   "metadata": {},
   "source": [
    "random.seed(RANDOM_SEED)：设置 Python 内置的随机数生成器的种子，用于控制随机数的生成。\n",
    "\n",
    "torch.manual_seed(RANDOM_SEED)：设置 PyTorch 的随机数种子，以确保在使用 PyTorch 进行随机操作时的可重复性。\n",
    "\n",
    "torch.cuda.manual_seed(RANDOM_SEED)：设置当前 CUDA 设备的随机种子，以确保在使用 CUDA 进行随机操作时的可重复性。\n",
    "\n",
    "torch.cuda.manual_seed_all(RANDOM_SEED)：设置所有可用的 CUDA 设备的随机种子，以确保在使用多个 CUDA 设备时的可重复性。\n",
    "\n",
    "np.random.seed(RANDOM_SEED)：设置 NumPy 库的随机数种子，以确保在使用 NumPy 进行随机操作时的可重复性。\n",
    "\n",
    "torch.backends.cudnn.deterministic = True：设置 PyTorch 的 cuDNN 库的随机性为确定性模式，以确保在使用 cuDNN 加速时的可重复性。\n",
    "\n",
    "torch.backends.cudnn.benchmark = False：禁用 cuDNN 的基准模式，以确保在使用 cuDNN 加速时的可重复性。"
   ]
  },
  {
   "cell_type": "code",
   "execution_count": 4,
   "metadata": {},
   "outputs": [],
   "source": [
    "import os\n",
    "import h5py\n",
    "\n",
    "def loadData(name):\n",
    "    data_path = os.path.join(os.getcwd(), 'dataset')\n",
    "    data_file = os.path.join(data_path, name + '.mat')\n",
    "    label_file = os.path.join(data_path, name + '_7gt.mat')\n",
    "    \n",
    "    with h5py.File(data_file, 'r') as f:\n",
    "        data = f['ori_data'][:]  # 使用正确的数据集名称来访问数据\n",
    "\n",
    "    with h5py.File(label_file, 'r') as f:\n",
    "        label = f['map'][:]  # 使用正确的标签数据集名称来访问标签\n",
    "\n",
    "    class_name = [\"Grass-healthy\", \"Grass-stressed\", \"Trees\", \"Water\", \n",
    "                  \"Residential-buildings\", \"Non-residential-buildings\", \"Road\"]\n",
    "    \n",
    "    return data, label, class_name"
   ]
  },
  {
   "cell_type": "markdown",
   "metadata": {},
   "source": [
    "data_path = os.path.join(os.getcwd(),'dataset')：构建了数据集所在文件夹的路径，这里假设数据集存储在当前工作目录下的 dataset 文件夹中。\n",
    "\n",
    "接下来是加载不同的数据集,分别加载了数据和标签，并设置了对应的类别名称列表 class_name。\n",
    "\n",
    "最后，函数返回加载的数据、标签和类别名称列表。"
   ]
  },
  {
   "cell_type": "code",
   "execution_count": 5,
   "metadata": {},
   "outputs": [
    {
     "name": "stdout",
     "output_type": "stream",
     "text": [
      "map\n",
      "    MATLAB_class: b'double'\n"
     ]
    }
   ],
   "source": [
    "import h5py\n",
    "\n",
    "# 打开HDF5文件\n",
    "file_path = 'dataset\\\\Houston13_7gt.mat' \n",
    "with h5py.File(file_path, 'r') as f:\n",
    "    # 遍历文件中的数据集和组\n",
    "    def print_attrs(name, obj):\n",
    "        print(name)\n",
    "        for key, val in obj.attrs.items():\n",
    "            print(\"    %s: %s\" % (key, val))\n",
    "\n",
    "    f.visititems(print_attrs)"
   ]
  },
  {
   "cell_type": "markdown",
   "metadata": {},
   "source": [
    "用于确认文件的数据集结构"
   ]
  },
  {
   "cell_type": "code",
   "execution_count": 6,
   "metadata": {
    "scrolled": true
   },
   "outputs": [],
   "source": [
    "data, label, class_name = loadData(DATASET)\n",
    "NUM_CLASS = label.max()"
   ]
  },
  {
   "cell_type": "markdown",
   "metadata": {},
   "source": [
    "在这段代码中，loadData(DATASET) 函数被调用，其中 DATASET 是一个变量或者常量，用于指定要加载的数据集名称。函数返回了三个值：data、label 和 class_name。\n",
    "\n",
    "data 是加载的数据集。\n",
    "\n",
    "label 是加载的数据集对应的标签。\n",
    "\n",
    "class_name 是数据集中类别的名称列表。\n",
    "\n",
    "接下来的代码是 NUM_CLASS = label.max()，它的作用是计算标签中的最大值，即数据集中的类别数量。这个值将作为后续处理中需要用到的类别数量。在这里，假设标签是从 1 开始编号的，因此最大的标签值就是类别的数量。"
   ]
  },
  {
   "cell_type": "code",
   "execution_count": 7,
   "metadata": {},
   "outputs": [
    {
     "name": "stdout",
     "output_type": "stream",
     "text": [
      "(48, 954, 210)\n",
      "(954, 210)\n"
     ]
    }
   ],
   "source": [
    "print(data.shape)\n",
    "print(label.shape)"
   ]
  },
  {
   "cell_type": "code",
   "execution_count": 8,
   "metadata": {},
   "outputs": [
    {
     "name": "stdout",
     "output_type": "stream",
     "text": [
      "(954, 210, 48)\n",
      "(954, 210)\n"
     ]
    }
   ],
   "source": [
    "data = np.transpose(data, (1, 2, 0))\n",
    "print(data.shape)\n",
    "print(label.shape)"
   ]
  },
  {
   "cell_type": "markdown",
   "metadata": {},
   "source": [
    "确认图像的大小，并调整data以匹配函数\n",
    "\n",
    "（imshow函数按照（hight,width,bands）的顺序）"
   ]
  },
  {
   "cell_type": "code",
   "execution_count": 9,
   "metadata": {},
   "outputs": [
    {
     "name": "stderr",
     "output_type": "stream",
     "text": [
      "C:\\Users\\lenovo\\anaconda3\\Lib\\site-packages\\spectral\\graphics\\spypylab.py:796: UserWarning: Failed to create RectangleSelector object. Interactive pixel class labeling will be unavailable.\n",
      "  warnings.warn(msg)\n"
     ]
    },
    {
     "data": {
      "image/png": "[encoded data removed]",
      "text/plain": [
       "<Figure size 700x700 with 1 Axes>"
      ]
     },
     "metadata": {},
     "output_type": "display_data"
    },
    {
     "data": {
      "image/png": "[encoded data removed]",
      "text/plain": [
       "<Figure size 700x700 with 1 Axes>"
      ]
     },
     "metadata": {},
     "output_type": "display_data"
    },
    {
     "data": {
      "image/png": "[encoded data removed]",
      "text/plain": [
       "<Figure size 700x700 with 1 Axes>"
      ]
     },
     "metadata": {},
     "output_type": "display_data"
    }
   ],
   "source": [
    "## display HSI\n",
    "rgb_view=spectral.imshow(data,(30,20,10),classes=label,title='RGB origin',figsize=(7,7))\n",
    "gt_view = spectral.imshow(classes=label, title='GroundTruth',figsize=(7,7))\n",
    "view = spectral.imshow(data,(30,20,10),classes=label,figsize=(7,7))\n",
    "view.set_display_mode('overlay')\n",
    "view.class_alpha = 0.5\n",
    "view.set_title('Overlay')\n",
    "spectral.save_rgb(f'results/{DATASET}_RGB_origin.jpg',data,(30,20,10))\n",
    "spectral.save_rgb(f'results/{DATASET}_gt.jpg',label,colors = spectral.spy_colors)"
   ]
  },
  {
   "cell_type": "markdown",
   "metadata": {},
   "source": [
    "这段代码使用了 Python 中的 Spectral Python 库来展示和保存加载的高光谱图像数据和标签。\n",
    "\n",
    "1. `rgb_view = spectral.imshow(data, (30, 20, 10), classes=label, title='RGB origin', figsize=(7, 7))`：这行代码创建了一个 RGB 彩色图像的显示窗口，并显示了原始的高光谱图像数据。参数 `(30, 20, 10)` 是用来定义 RGB 图像的波段组合，`classes=label` 用于指定颜色编码的类别标签，`title='RGB origin'` 用于设置窗口标题，`figsize=(7, 7)` 用于设置窗口大小。\n",
    "\n",
    "2. `gt_view = spectral.imshow(classes=label, title='GroundTruth', figsize=(7, 7))`：这行代码创建了一个显示窗口，用于展示数据集的地面真实标签（Ground Truth）。`classes=label` 用于指定颜色编码的类别标签，`title='GroundTruth'` 用于设置窗口标题，`figsize=(7, 7)` 用于设置窗口大小。\n",
    "\n",
    "3. `view = spectral.imshow(data, (30, 20, 10), classes=label, figsize=(7, 7))`：这行代码创建了一个显示窗口，展示了原始高光谱图像数据和标签。参数设置与第一行代码类似。\n",
    "\n",
    "4. `view.set_display_mode('overlay')`：将显示模式设置为叠加显示。\n",
    "\n",
    "5. `view.class_alpha = 0.5`：设置类别的透明度为 0.5。\n",
    "\n",
    "6. `view.set_title('Overlay')`：设置窗口标题为 \"Overlay\"。\n",
    "\n",
    "7. `spectral.save_rgb(f'results/{DATASET}_RGB_origin.jpg', data, (30, 20, 10))`：将原始的高光谱图像数据保存为 RGB 彩色图像。\n",
    "\n",
    "8. `spectral.save_rgb(f'results/{DATASET}_gt.jpg', label, colors=spectral.spy_colors)`：将标签数据保存为彩色图像。\n",
    "\n",
    "这段代码的作用是展示和保存加载的高光谱图像数据和标签。通过这些代码，可以直观地查看数据集的图像和标签信息，并保存为图像文件。"
   ]
  },
  {
   "cell_type": "code",
   "execution_count": 10,
   "metadata": {},
   "outputs": [],
   "source": [
    "# show 3D cube\n",
    "#%matplotlib auto\n",
    "#spectral.view_cube(data,(30,20,10))   \n",
    "# depend on wxpython and pyopengl"
   ]
  },
  {
   "cell_type": "markdown",
   "metadata": {},
   "source": [
    "在新窗口中显示3D图形"
   ]
  },
  {
   "cell_type": "code",
   "execution_count": 11,
   "metadata": {},
   "outputs": [],
   "source": [
    "def applyPCA(X, numComponents=15):\n",
    "    \"\"\"PCA processing\n",
    "\n",
    "    Args:\n",
    "        X (ndarray M*N*C): data needs DR\n",
    "        numComponents (int, optional): number of reserved components. Defaults to 15.\n",
    "\n",
    "    Returns:\n",
    "        newX: _description_\n",
    "    \"\"\"\n",
    "    newX = np.reshape(X, (-1, X.shape[2]))\n",
    "    pca = PCA(n_components=numComponents, whiten=True)   ##PCA and normalization\n",
    "    newX = pca.fit_transform(newX)\n",
    "    newX = np.reshape(newX, (X.shape[0],X.shape[1], numComponents))\n",
    "    return newX, pca"
   ]
  },
  {
   "cell_type": "markdown",
   "metadata": {},
   "source": [
    "def applyPCA(X, numComponents=15):\n",
    "    \"\"\"PCA处理\n",
    "\n",
    "    Args:\n",
    "        X (ndarray M*N*C): 需要进行降维处理的数据\n",
    "        numComponents (int, optional): 保留的主成分数量，默认为15个。\n",
    "\n",
    "    Returns:\n",
    "        newX: _description_\n",
    "    \"\"\"\n",
    "这是一个名为 applyPCA 的函数定义，它接受一个名为 X 的数组作为输入，并且有一个可选参数 numComponents，默认值为 15。函数文档提供了关于输入参数和返回值的信息。\n",
    "\n",
    "    newX = np.reshape(X, (-1, X.shape[2]))\n",
    "这一行将输入数组 X 重新塑造为一个二维数组，其中行数为 -1，列数为 X 的第三个维度的大小。这样做可以将原始的三维数据转换为二维以便进行PCA处理。\n",
    "\n",
    "    pca = PCA(n_components=numComponents, whiten=True)   ##PCA and normalization\n",
    "在这里，创建了一个PCA（主成分分析）对象，指定了主成分的数量为 numComponents，并且将 whiten 参数设置为 True，表示进行白化处理。白化是一种预处理技术，用于对输入特征进行去相关化和归一化处理。\n",
    "\n",
    "    newX = pca.fit_transform(newX)\n",
    "使用 fit_transform 方法对重塑后的数组 newX 进行PCA处理，得到降维后的数组 newX。\n",
    "\n",
    "    newX = np.reshape(newX, (X.shape[0],X.shape[1], numComponents))\n",
    "在PCA处理完成后，将降维后的数组 newX 重新调整为原始的三维形状，其中第三个维度对应于PCA得到的主成分数量。\n",
    "\n",
    "    return newX, pca\n",
    "最后，函数返回经过PCA处理后的数据 newX 和PCA模型对象 pca。"
   ]
  },
  {
   "cell_type": "code",
   "execution_count": 12,
   "metadata": {},
   "outputs": [
    {
     "data": {
      "text/plain": [
       "(954, 210, 15)"
      ]
     },
     "execution_count": 12,
     "metadata": {},
     "output_type": "execute_result"
    }
   ],
   "source": [
    "data,pca = applyPCA(data,N_PCA)\n",
    "data.shape"
   ]
  },
  {
   "cell_type": "markdown",
   "metadata": {},
   "source": [
    "这段代码首先调用了名为 applyPCA 的函数，传入了 data 和 N_PCA 作为参数。\n",
    "\n",
    "这个函数会对 data 进行PCA处理，并返回处理后的数据 data 和PCA模型对象 pca。\n",
    "\n",
    "接着，data.shape 用于获取经过PCA处理后的数据 data 的形状，并打印出来。\n",
    "\n",
    "所以，这段代码的作用是对 data 进行PCA处理，然后打印出处理后的数据 data 的形状。"
   ]
  },
  {
   "cell_type": "code",
   "execution_count": 13,
   "metadata": {},
   "outputs": [],
   "source": [
    "def sample_gt(gt, train_rate):\n",
    "    \"\"\" generate training gt for training dataset\n",
    "    Args:\n",
    "        gt (ndarray): full classmap\n",
    "        train_rate (float): ratio of training dataset\n",
    "    Returns:\n",
    "        train_gt(ndarray): classmap of training data\n",
    "        test_gt(ndarray): classmap of test data\n",
    "    \"\"\"\n",
    "    indices = np.nonzero(gt)  ##([x1,x2,...],[y1,y2,...])\n",
    "    X = list(zip(*indices))  ## X=[(x1,y1),(x2,y2),...] location of pixels\n",
    "    y = gt[indices].ravel()\n",
    "    train_gt = np.zeros_like(gt)\n",
    "    test_gt = np.zeros_like(gt)\n",
    "    if train_rate > 1:\n",
    "       train_rate = int(train_rate)\n",
    "    train_indices, test_indices = train_test_split(X, train_size=train_rate, stratify=y, random_state=100)\n",
    "    train_indices = [t for t in zip(*train_indices)]   ##[[x1,x2,...],[y1,y2,...]]\n",
    "    test_indices = [t for t in zip(*test_indices)]\n",
    "    train_gt[tuple(train_indices)] = gt[tuple(train_indices)]\n",
    "    test_gt[tuple(test_indices)] = gt[tuple(test_indices)]\n",
    "    \n",
    "    return train_gt, test_gt"
   ]
  },
  {
   "cell_type": "markdown",
   "metadata": {},
   "source": [
    "这是一个名为 `sample_gt` 的函数，用于生成训练数据集的类别地图（classmap）。以下是对代码的逐行解释：\n",
    "\n",
    "```python\n",
    "def sample_gt(gt, train_rate):\n",
    "    \"\"\" generate training gt for training dataset\n",
    "    Args:\n",
    "        gt (ndarray): full classmap - 完整的类别地图\n",
    "        train_rate (float): ratio of training dataset - 训练数据集的比例\n",
    "    Returns:\n",
    "        train_gt(ndarray): classmap of training data - 训练数据的类别地图\n",
    "        test_gt(ndarray): classmap of test data - 测试数据的类别地图\n",
    "    \"\"\"\n",
    "```\n",
    "这是函数的定义，它接受一个名为 `gt` 的数组作为输入，表示完整的类别地图，以及一个名为 `train_rate` 的浮点数，表示训练数据集的比例。函数文档提供了关于输入参数和返回值的信息。\n",
    "\n",
    "```python\n",
    "    indices = np.nonzero(gt)  ##([x1,x2,...],[y1,y2,...])\n",
    "```\n",
    "这一行使用 `np.nonzero` 函数找到类别地图 `gt` 中非零元素的索引，返回一个包含两个数组的元组，分别表示非零元素的行索引和列索引。\n",
    "\n",
    "```python\n",
    "    X = list(zip(*indices))  ## X=[(x1,y1),(x2,y2),...] location of pixels\n",
    "```\n",
    "这里使用 `zip` 和 `list` 函数将行索引和列索引组合成一个列表 `X`，每个元素是一个二元组，表示像素的位置。\n",
    "\n",
    "```python\n",
    "    y = gt[indices].ravel()\n",
    "```\n",
    "这一行将类别地图 `gt` 中对应索引位置的元素取出，并展平成一维数组，存储在 `y` 中，表示对应像素的类别标签。\n",
    "\n",
    "```python\n",
    "    train_gt = np.zeros_like(gt)\n",
    "    test_gt = np.zeros_like(gt)\n",
    "```\n",
    "创建两个和 `gt` 大小相同的全零数组，用于存储训练数据和测试数据的类别地图。\n",
    "\n",
    "```python\n",
    "    if train_rate > 1:\n",
    "       train_rate = int(train_rate)\n",
    "```\n",
    "如果 `train_rate` 大于1，将其转换为整数。\n",
    "\n",
    "```python\n",
    "    train_indices, test_indices = train_test_split(X, train_size=train_rate, stratify=y, random_state=100)\n",
    "```\n",
    "使用 `train_test_split` 函数将像素位置 `X` 按照 `train_rate` 的比例划分为训练数据和测试数据，并且保持类别标签的分布一致。\n",
    "\n",
    "```python\n",
    "    train_indices = [t for t in zip(*train_indices)]   ##[[x1,x2,...],[y1,y2,...]]\n",
    "    test_indices = [t for t in zip(*test_indices)]\n",
    "```\n",
    "将划分后的训练数据和测试数据的像素位置重新整理成两个列表，分别表示行索引和列索引。\n",
    "\n",
    "```python\n",
    "    train_gt[tuple(train_indices)] = gt[tuple(train_indices)]\n",
    "    test_gt[tuple(test_indices)] = gt[tuple(test_indices)]\n",
    "```\n",
    "根据划分好的像素位置，将对应位置的类别标签复制到训练数据和测试数据的类别地图中。\n",
    "\n",
    "```python\n",
    "    return train_gt, test_gt\n",
    "```\n",
    "最后，函数返回生成的训练数据和测试数据的类别地图。\n",
    "\n",
    "希望这样的解释对你有所帮助！如果你有任何其他问题，欢迎随时问我。"
   ]
  },
  {
   "cell_type": "code",
   "execution_count": 14,
   "metadata": {},
   "outputs": [],
   "source": [
    "train_gt, test_gt = sample_gt(label,TRAIN_RATE)\n",
    "val_gt,test_gt = sample_gt(test_gt,VAL_RATE/(1-TRAIN_RATE))"
   ]
  },
  {
   "cell_type": "markdown",
   "metadata": {},
   "source": [
    "在这里，代码调用了 `sample_gt` 函数两次，首先是对 `label` 数据进行了训练数据和测试数据的划分，然后对测试数据进行了验证数据和测试数据的划分。这是一个常见的数据集划分方法，通常用于机器学习任务。\n",
    "\n",
    "第一次调用 `sample_gt` 函数:\n",
    "```python\n",
    "train_gt, test_gt = sample_gt(label, TRAIN_RATE)\n",
    "```\n",
    "这一行将 `label` 数据传递给 `sample_gt` 函数，并将返回的训练数据和测试数据的类别地图分别存储在 `train_gt` 和 `test_gt` 中。\n",
    "\n",
    "第二次调用 `sample_gt` 函数:\n",
    "```python\n",
    "val_gt, test_gt = sample_gt(test_gt, VAL_RATE / (1 - TRAIN_RATE))\n",
    "```\n",
    "这一行将第一次划分得到的测试数据传递给 `sample_gt` 函数，同时传递验证数据所占比例 `VAL_RATE / (1 - TRAIN_RATE)`，并将返回的验证数据和更新后的测试数据的类别地图分别存储在 `val_gt` 和 `test_gt` 中。\n",
    "\n",
    "通过这两次调用 `sample_gt` 函数，实现了对原始数据的三部分划分：训练数据、验证数据和测试数据。"
   ]
  },
  {
   "cell_type": "code",
   "execution_count": 15,
   "metadata": {},
   "outputs": [
    {
     "name": "stdout",
     "output_type": "stream",
     "text": [
      "  class   train_num  val_num   test_num   total   \n",
      "   1.0       103        35       207       345    \n",
      "   2.0       109        37       219       365    \n",
      "   3.0       110        36       219       365    \n",
      "   4.0        86        28       171       285    \n",
      "   5.0        96        32       191       319    \n",
      "   6.0       122        41       245       408    \n",
      "   7.0       133        44       266       443    \n",
      "  total      759       253       1518      2530   \n"
     ]
    },
    {
     "name": "stderr",
     "output_type": "stream",
     "text": [
      "C:\\Users\\lenovo\\anaconda3\\Lib\\site-packages\\spectral\\graphics\\spypylab.py:796: UserWarning: Failed to create RectangleSelector object. Interactive pixel class labeling will be unavailable.\n",
      "  warnings.warn(msg)\n"
     ]
    },
    {
     "data": {
      "text/plain": [
       "ImageView object:\n",
       "  Interpolation       :  <default>"
      ]
     },
     "execution_count": 15,
     "metadata": {},
     "output_type": "execute_result"
    },
    {
     "data": {
      "image/png": "[encoded data removed]",
      "text/plain": [
       "<Figure size 640x480 with 1 Axes>"
      ]
     },
     "metadata": {},
     "output_type": "display_data"
    },
    {
     "data": {
      "image/png": "[encoded data removed]",
      "text/plain": [
       "<Figure size 640x480 with 1 Axes>"
      ]
     },
     "metadata": {},
     "output_type": "display_data"
    },
    {
     "data": {
      "image/png": "[encoded data removed]",
      "text/plain": [
       "<Figure size 640x480 with 1 Axes>"
      ]
     },
     "metadata": {},
     "output_type": "display_data"
    }
   ],
   "source": [
    "## display sampling info\n",
    "sample_report = f\"{'class': ^10}{'train_num':^10}{'val_num': ^10}{'test_num': ^10}{'total': ^10}\\n\"\n",
    "for i in np.unique(label):\n",
    "    if i == 0: continue\n",
    "    sample_report += f\"{i: ^10}{(train_gt==i).sum(): ^10}{(val_gt==i).sum(): ^10}{(test_gt==i).sum(): ^10}{(label==i).sum(): ^10}\\n\"\n",
    "sample_report += f\"{'total': ^10}{np.count_nonzero(train_gt): ^10}{np.count_nonzero(val_gt): ^10}{np.count_nonzero(test_gt): ^10}{np.count_nonzero(label): ^10}\"\n",
    "print(sample_report)\n",
    "spectral.imshow(classes=train_gt, title='train_gt')\n",
    "spectral.imshow(classes=val_gt, title='val_gt')\n",
    "spectral.imshow(classes=test_gt, title='test_gt')"
   ]
  },
  {
   "cell_type": "markdown",
   "metadata": {},
   "source": [
    "    sample_report = f\"{'class': ^10}{'train_num':^10}{'val_num': ^10}{'test_num': ^10}{'total': ^10}\\n\"\n",
    "\n",
    "这一行创建了一个字符串 sample_report，用于存储数据集划分的信息。它设置了表头，包括类别、训练数据数量、验证数据数量、测试数据数量和总数，这些信息将在下面的循环中填充。\n",
    "\n",
    "    for i in np.unique(label):\n",
    "        if i == 0: continue\n",
    "        sample_report += f\"{i: ^10}{(train_gt==i).sum(): ^10}{(val_gt==i).sum(): ^10}{(test_gt==i).sum(): ^10}{(label==i).sum(): ^10}\\n\"\n",
    "    \n",
    "这个循环遍历数据集中的每个类别。对于每个类别，它计算该类别在训练数据、验证数据和测试数据中的像素数量，然后将这些信息添加到 sample_report 中。\n",
    "\n",
    "    sample_report += f\"{'total': ^10}{np.count_nonzero(train_gt): ^10}{np.count_nonzero(val_gt): ^10}{np.count_nonzero(test_gt): ^10}{np.count_nonzero(label): ^10}\"\n",
    "\n",
    "这一行计算并添加了总体的像素数量信息到 sample_report 中。\n",
    "\n",
    "    print(sample_report)\n",
    "\n",
    "这一行打印了 sample_report，显示了数据集划分的信息。\n",
    "\n",
    "    spectral.imshow(classes=train_gt, title='train_gt')\n",
    "    spectral.imshow(classes=val_gt, title='val_gt')\n",
    "    spectral.imshow(classes=test_gt, title='test_gt')\n",
    "\n",
    "这三行使用 spectral.imshow 函数分别可视化了训练数据、验证数据和测试数据的类别地图，其中 classes 参数指定了类别地图数据，title 参数指定了图像的标题。"
   ]
  },
  {
   "cell_type": "code",
   "execution_count": 16,
   "metadata": {},
   "outputs": [],
   "source": [
    "class PatchSet(Dataset):\n",
    "    \"\"\" Generate 3D patch from hyperspectral dataset \"\"\"\n",
    "    def __init__(self, data, gt, patch_size, is_pred=False):\n",
    "        \"\"\"\n",
    "        Args:\n",
    "            data: 3D hyperspectral image\n",
    "            gt: 2D array of labels\n",
    "            patch_size: int, size of the 3D patch\n",
    "            is_pred: bool, create data without label for prediction (default False) \n",
    "\n",
    "        \"\"\"\n",
    "        super(PatchSet, self).__init__()\n",
    "        self.is_pred = is_pred\n",
    "        self.patch_size = patch_size\n",
    "        p = self.patch_size // 2\n",
    "        self.data = np.pad(data,((p,p),(p,p),(0,0)),'constant',constant_values = 0)\n",
    "        if is_pred:\n",
    "            gt = np.ones_like(gt)\n",
    "        self.label = np.pad(gt,(p,p),'constant',constant_values = 0)\n",
    "        x_pos, y_pos = np.nonzero(gt)\n",
    "        x_pos, y_pos = x_pos + p, y_pos + p   ##indices after padding\n",
    "        self.indices = np.array([(x,y) for x,y in zip(x_pos, y_pos)])\n",
    "        if not is_pred:\n",
    "            np.random.shuffle(self.indices)\n",
    "\n",
    "    def __len__(self):\n",
    "        return len(self.indices)\n",
    "\n",
    "    def __getitem__(self, i):\n",
    "        x, y = self.indices[i]\n",
    "        x1, y1 = x - self.patch_size // 2, y - self.patch_size // 2\n",
    "        x2, y2 = x1 + self.patch_size, y1 + self.patch_size\n",
    "        data = self.data[x1:x2, y1:y2]\n",
    "        label = self.label[x, y]\n",
    "        data = np.asarray(data, dtype='float32').transpose((2, 0, 1))\n",
    "        label = np.asarray(label, dtype='int64')\n",
    "        data = torch.from_numpy(data)\n",
    "        label = torch.from_numpy(label)\n",
    "        if self.is_pred:\n",
    "            return data\n",
    "        else: return data, label\n"
   ]
  },
  {
   "cell_type": "markdown",
   "metadata": {},
   "source": [
    "     class PatchSet(Dataset):\n",
    "        \"\"\" Generate 3D patch from hyperspectral dataset \"\"\"\n",
    "        def __init__(self, data, gt, patch_size, is_pred=False):\n",
    "            \"\"\"\n",
    "            Args:\n",
    "                data: 3D hyperspectral image\n",
    "                gt: 2D array of labels\n",
    "                patch_size: int, size of the 3D patch\n",
    "                is_pred: bool, create data without label for prediction (default False) \n",
    "            \"\"\"\n",
    "            super(PatchSet, self).__init__()\n",
    "\n",
    "这里定义了一个名为 PatchSet 的自定义数据集类，它继承自 torch.utils.data.Dataset 类。在 __init__ 方法中，它接受 data（3D高光谱图像）、gt（2D标签数组）、patch_size（3D块的大小）和 is_pred（一个布尔值，用于指示是否为预测创建不带标签的数据）作为参数。\n",
    "\n",
    "        self.is_pred = is_pred\n",
    "        self.patch_size = patch_size\n",
    "        p = self.patch_size // 2\n",
    "        self.data = np.pad(data,((p,p),(p,p),(0,0)),'constant',constant_values = 0)\n",
    "这里将输入的 is_pred 和 patch_size 存储在对象的属性中，并对输入的 data 进行填充，以便在边界周围添加额外的值。\n",
    "\n",
    "        if is_pred:\n",
    "            gt = np.ones_like(gt)\n",
    "        self.label = np.pad(gt,(p,p),'constant',constant_values = 0)\n",
    "如果 is_pred 为 True，则将标签 gt 替换为全1的数组；然后对标签进行填充，以便在边界周围添加额外的值。\n",
    "\n",
    "        x_pos, y_pos = np.nonzero(gt)\n",
    "        x_pos, y_pos = x_pos + p, y_pos + p   ##indices after padding\n",
    "        self.indices = np.array([(x,y) for x,y in zip(x_pos, y_pos)])\n",
    "        if not is_pred:\n",
    "            np.random.shuffle(self.indices)\n",
    "这里获取非零元素的索引，对索引进行调整以适应填充后的标签，并将这些调整后的索引存储在 self.indices 中。如果 is_pred 不为 True，则对索引进行随机打乱。\n",
    "\n",
    "    def __len__(self):\n",
    "        return len(self.indices)\n",
    "__len__ 方法返回数据集中的样本数量，这里是 indices 的长度。\n",
    "\n",
    "    def __getitem__(self, i):\n",
    "        x, y = self.indices[i]\n",
    "        x1, y1 = x - self.patch_size // 2, y - self.patch_size // 2\n",
    "        x2, y2 = x1 + self.patch_size, y1 + self.patch_size\n",
    "        data = self.data[x1:x2, y1:y2]\n",
    "        label = self.label[x, y]\n",
    "        data = np.asarray(data, dtype='float32').transpose((2, 0, 1))\n",
    "        label = np.asarray(label, dtype='int64')\n",
    "        data = torch.from_numpy(data)\n",
    "        label = torch.from_numpy(label)\n",
    "        if self.is_pred:\n",
    "            return data\n",
    "        else: return data, label\n",
    "__getitem__ 方法用于获取数据集中的单个样本。它根据索引 i 获取相应位置的块，并将其转换为适当的数据类型（float32 和 int64），然后返回数据和标签。如果 is_pred 为 True，则只返回数据，否则返回数据和标签。"
   ]
  },
  {
   "cell_type": "code",
   "execution_count": 17,
   "metadata": {},
   "outputs": [],
   "source": [
    "##create dataset and dataloader\n",
    "train_data = PatchSet(data, train_gt, PATCH_SIZE)\n",
    "val_data = PatchSet(data, val_gt, PATCH_SIZE)\n",
    "all_data = PatchSet(data, label, PATCH_SIZE,is_pred = True)\n",
    "train_loader = DataLoader(train_data,BATCH_SIZE,shuffle= True)\n",
    "val_loader = DataLoader(val_data,BATCH_SIZE,shuffle= True)\n",
    "all_loader = DataLoader(all_data,BATCH_SIZE,shuffle= False)"
   ]
  },
  {
   "cell_type": "markdown",
   "metadata": {},
   "source": [
    "以上代码段创建了三个数据集（train_data、val_data 和 all_data）和三个对应的数据加载器（train_loader、val_loader 和 all_loader）。让我解释一下这段代码的作用：\n",
    "\n",
    "    train_data = PatchSet(data, train_gt, PATCH_SIZE)\n",
    "这里创建了一个名为 train_data 的数据集，它使用 PatchSet 类来生成训练数据。data 是输入的3D高光谱图像，train_gt 是训练数据的标签，PATCH_SIZE 是3D块的大小。\n",
    "\n",
    "    val_data = PatchSet(data, val_gt, PATCH_SIZE)\n",
    "这里创建了一个名为 val_data 的数据集，它使用 PatchSet 类来生成验证数据。它与 train_data 类似，但使用了不同的标签 val_gt。\n",
    "\n",
    "    all_data = PatchSet(data, label, PATCH_SIZE, is_pred=True)\n",
    "这里创建了一个名为 all_data 的数据集，它使用 PatchSet 类来生成所有数据（包括训练和验证）。is_pred=True 表示这是用于预测的数据，因此不包含标签。\n",
    "\n",
    "    train_loader = DataLoader(train_data, BATCH_SIZE, shuffle=True)\n",
    "这里创建了一个名为 train_loader 的数据加载器，它使用 DataLoader 类来加载训练数据集 train_data。BATCH_SIZE 是批处理大小，shuffle=True 表示在每个时期之前对数据进行洗牌。\n",
    "\n",
    "    val_loader = DataLoader(val_data, BATCH_SIZE, shuffle=True)\n",
    "这里创建了一个名为 val_loader 的数据加载器，它使用 DataLoader 类来加载验证数据集 val_data。它与 train_loader 类似，但用于验证数据。\n",
    "\n",
    "    all_loader = DataLoader(all_data, BATCH_SIZE, shuffle=False)\n",
    "这里创建了一个名为 all_loader 的数据加载器，它使用 DataLoader 类来加载所有数据集 all_data。与 train_loader 和 val_loader 不同，shuffle=False 表示不对数据进行洗牌。"
   ]
  },
  {
   "cell_type": "code",
   "execution_count": 18,
   "metadata": {},
   "outputs": [
    {
     "data": {
      "text/plain": [
       "(torch.Size([15, 25, 25]), tensor(3))"
      ]
     },
     "execution_count": 18,
     "metadata": {},
     "output_type": "execute_result"
    }
   ],
   "source": [
    "d,g=train_data.__getitem__(0)\n",
    "d.shape,g"
   ]
  },
  {
   "cell_type": "markdown",
   "metadata": {},
   "source": [
    "d 是数据集中第一个样本的数据，它是一个包含高光谱图像块的张量。根据你的代码，你的数据集中的每个样本都是一个大小为 PATCH_SIZE x PATCH_SIZE x NUM_BANDS 的高光谱图像块，因此 d 的形状应该是 (NUM_BANDS, PATCH_SIZE, PATCH_SIZE)。\n",
    "\n",
    "g 是数据集中第一个样本的标签，它是一个整数张量，表示该块的类别或标签。"
   ]
  },
  {
   "cell_type": "code",
   "execution_count": 19,
   "metadata": {},
   "outputs": [],
   "source": [
    "## Defination of HybridSN\n",
    "class HybridSN(nn.Module):\n",
    "    def __init__(self, in_chs, patch_size, class_nums):\n",
    "        super().__init__()\n",
    "        self.in_chs = in_chs\n",
    "        self.patch_size = patch_size\n",
    "        self.conv1 = nn.Sequential(\n",
    "                    nn.Conv3d(in_channels=1,out_channels=8,kernel_size=(7, 3, 3)),\n",
    "                    nn.ReLU(inplace=True))\n",
    "        self.conv2 = nn.Sequential(\n",
    "                    nn.Conv3d(in_channels=8,out_channels=16,kernel_size=(5, 3, 3)),\n",
    "                    nn.ReLU(inplace=True))\n",
    "            \n",
    "        self.conv3 = nn.Sequential(\n",
    "                    nn.Conv3d(in_channels=16,out_channels=32,kernel_size=(3, 3, 3)),\n",
    "                    nn.ReLU(inplace=True))\n",
    "        \n",
    "        self.x1_shape = self.get_shape_after_3dconv()\n",
    "        # print(self.x1_shape)\n",
    "        self.conv4 = nn.Sequential(\n",
    "                    nn.Conv2d(in_channels=self.x1_shape[1]*self.x1_shape[2],out_channels=64,kernel_size=(3, 3)),\n",
    "                    nn.ReLU(inplace=True))\n",
    "        self.x2_shape = self.get_shape_after_2dconv()\n",
    "        \n",
    "        # print(self.x2_shape)\n",
    "        self.dense1 = nn.Sequential(\n",
    "                    nn.Linear(self.x2_shape,256),\n",
    "                    nn.ReLU(inplace=True),\n",
    "                    nn.Dropout(p=0.4))\n",
    "        \n",
    "        self.dense2 = nn.Sequential(\n",
    "                    nn.Linear(256,128),\n",
    "                    nn.ReLU(inplace=True),\n",
    "                    nn.Dropout(p=0.4))\n",
    "        \n",
    "        self.dense3 = nn.Sequential(\n",
    "                    nn.Linear(128,class_nums)\n",
    "                   )\n",
    "    \n",
    "    def get_shape_after_2dconv(self):\n",
    "        x = torch.zeros((1, self.x1_shape[1]*self.x1_shape[2], self.x1_shape[3], self.x1_shape[4]))\n",
    "        with torch.no_grad():\n",
    "            x = self.conv4(x)\n",
    "            print\n",
    "        return x.shape[1]*x.shape[2]*x.shape[3]\n",
    "    \n",
    "    def get_shape_after_3dconv(self):\n",
    "        x = torch.zeros((1, 1, self.in_chs, self.patch_size, self.patch_size))\n",
    "        with torch.no_grad():\n",
    "            x = self.conv1(x)\n",
    "            x = self.conv2(x)\n",
    "            x = self.conv3(x)\n",
    "        return x.shape\n",
    "    \n",
    "    def forward(self, X):\n",
    "        X = X.unsqueeze(1)\n",
    "        x = self.conv1(X)\n",
    "        x = self.conv2(x)\n",
    "        x = self.conv3(x)\n",
    "        x = x.view(x.shape[0],x.shape[1]*x.shape[2],x.shape[3],x.shape[4])\n",
    "        # print(x.shape)\n",
    "        x = self.conv4(x)\n",
    "        x = x.contiguous().view(x.shape[0], -1)\n",
    "        # print(x.shape)\n",
    "        x = self.dense1(x)\n",
    "        x = self.dense2(x)\n",
    "        out = self.dense3(x)\n",
    "        return out"
   ]
  },
  {
   "cell_type": "code",
   "execution_count": 20,
   "metadata": {},
   "outputs": [],
   "source": [
    "NUM_CLASS = int(NUM_CLASS)\n",
    "net = HybridSN(N_PCA,PATCH_SIZE,class_nums=NUM_CLASS)"
   ]
  },
  {
   "cell_type": "code",
   "execution_count": 21,
   "metadata": {},
   "outputs": [
    {
     "data": {
      "text/plain": [
       "==========================================================================================\n",
       "Layer (type (var_name))                  Param #    Kernel Shape Mult-Adds  Input Shape Output Shape\n",
       "==========================================================================================\n",
       "HybridSN (HybridSN)                      --         --         --         [1, 15, 25, 25] [1, 7]\n",
       "├─Sequential (conv1)                     --         --         --         [1, 1, 15, 25, 25] [1, 8, 9, 23, 23]\n",
       "│    └─Conv3d (0)                        512        [7, 3, 3]  2,437,632  [1, 1, 15, 25, 25] [1, 8, 9, 23, 23]\n",
       "│    └─ReLU (1)                          --         --         --         [1, 8, 9, 23, 23] [1, 8, 9, 23, 23]\n",
       "├─Sequential (conv2)                     --         --         --         [1, 8, 9, 23, 23] [1, 16, 5, 21, 21]\n",
       "│    └─Conv3d (0)                        5,776      [5, 3, 3]  12,736,080 [1, 8, 9, 23, 23] [1, 16, 5, 21, 21]\n",
       "│    └─ReLU (1)                          --         --         --         [1, 16, 5, 21, 21] [1, 16, 5, 21, 21]\n",
       "├─Sequential (conv3)                     --         --         --         [1, 16, 5, 21, 21] [1, 32, 3, 19, 19]\n",
       "│    └─Conv3d (0)                        13,856     [3, 3, 3]  15,006,048 [1, 16, 5, 21, 21] [1, 32, 3, 19, 19]\n",
       "│    └─ReLU (1)                          --         --         --         [1, 32, 3, 19, 19] [1, 32, 3, 19, 19]\n",
       "├─Sequential (conv4)                     --         --         --         [1, 96, 19, 19] [1, 64, 17, 17]\n",
       "│    └─Conv2d (0)                        55,360     [3, 3]     15,999,040 [1, 96, 19, 19] [1, 64, 17, 17]\n",
       "│    └─ReLU (1)                          --         --         --         [1, 64, 17, 17] [1, 64, 17, 17]\n",
       "├─Sequential (dense1)                    --         --         --         [1, 18496] [1, 256]\n",
       "│    └─Linear (0)                        4,735,232  --         4,735,232  [1, 18496] [1, 256]\n",
       "│    └─ReLU (1)                          --         --         --         [1, 256]   [1, 256]\n",
       "│    └─Dropout (2)                       --         --         --         [1, 256]   [1, 256]\n",
       "├─Sequential (dense2)                    --         --         --         [1, 256]   [1, 128]\n",
       "│    └─Linear (0)                        32,896     --         32,896     [1, 256]   [1, 128]\n",
       "│    └─ReLU (1)                          --         --         --         [1, 128]   [1, 128]\n",
       "│    └─Dropout (2)                       --         --         --         [1, 128]   [1, 128]\n",
       "├─Sequential (dense3)                    --         --         --         [1, 128]   [1, 7]\n",
       "│    └─Linear (0)                        903        --         903        [1, 128]   [1, 7]\n",
       "==========================================================================================\n",
       "Total params: 4,844,535\n",
       "Trainable params: 4,844,535\n",
       "Non-trainable params: 0\n",
       "Total mult-adds (Units.MEGABYTES): 50.95\n",
       "==========================================================================================\n",
       "Input size (MB): 0.04\n",
       "Forward/backward pass size (MB): 1.02\n",
       "Params size (MB): 19.38\n",
       "Estimated Total Size (MB): 20.43\n",
       "=========================================================================================="
      ]
     },
     "execution_count": 21,
     "metadata": {},
     "output_type": "execute_result"
    }
   ],
   "source": [
    "summary(net, input_size=(1,N_PCA,PATCH_SIZE,PATCH_SIZE),col_names=['num_params','kernel_size','mult_adds','input_size','output_size'],col_width=10,row_settings=['var_names'],depth=4)"
   ]
  },
  {
   "cell_type": "markdown",
   "metadata": {},
   "source": [
    "以上代码是一个基于 PyTorch 深度学习框架的神经网络模型。\n",
    "\n",
    "1. `__init__` 方法：这是 Python 类中的初始化方法，在创建类的实例时被调用。在这个方法中，定义了神经网络的各个层。下面是每个部分的解释：\n",
    "\n",
    "   - `self.get_shape_after_3dconv()`：调用了一个辅助方法，用于获取3D卷积层的输出形状。\n",
    "   \n",
    "   - `self.conv4`：定义了一个包含了一个2D卷积层和ReLU激活函数的序列。这个卷积层将3D卷积层的输出进行二维卷积操作。\n",
    "   \n",
    "   - `self.x2_shape = self.get_shape_after_2dconv()`：调用了另一个辅助方法，用于获取2D卷积层的输出形状。\n",
    "   \n",
    "   - `self.dense1`、`self.dense2`、`self.dense3`：定义了三个全连接层，分别包含了线性变换、ReLU激活函数和Dropout操作。\n",
    "\n",
    "2. `get_shape_after_2dconv` 方法：这个方法用于获取2D卷积层的输出形状。它创建了一个与输入形状相同的张量，并通过卷积层计算输出形状。\n",
    "\n",
    "3. `get_shape_after_3dconv` 方法：这个方法用于获取3D卷积层的输出形状。它创建了一个与输入形状相同的张量，并通过卷积层计算输出形状。\n",
    "\n",
    "4. `forward` 方法：这个方法定义了数据在模型中的前向传播过程。它通过卷积层和全连接层对输入数据进行处理，并返回最终的输出结果。\n",
    "\n",
    "5. `net` 实例化：在最后，通过 `HybridSN` 类实例化了一个名为 `net` 的模型，同时使用 `summary` 方法对模型进行了摘要打印，显示了模型的结构和参数数量等信息。\n",
    "\n",
    "综上所述，以上代码定义了一个混合卷积神经网络模型，其中包括了3D卷积层、2D卷积层和全连接层，用于处理高光谱图像数据。希望这些解释可以帮助你更好地理解这个模型的结构和功能。"
   ]
  },
  {
   "cell_type": "code",
   "execution_count": 22,
   "metadata": {},
   "outputs": [
    {
     "data": {
      "application/vnd.jupyter.widget-view+json": {
       "model_id": "7c06107f88784302be84746123ed4d4c",
       "version_major": 2,
       "version_minor": 0
      },
      "text/plain": [
       "Training::   0%|          | 0/100 [00:00<?, ?it/s]"
      ]
     },
     "metadata": {},
     "output_type": "display_data"
    },
    {
     "data": {
      "application/vnd.jupyter.widget-view+json": {
       "model_id": "e657a88074c7444bab4d995a660d262e",
       "version_major": 2,
       "version_minor": 0
      },
      "text/plain": [
       "  0%|          | 0/3 [00:00<?, ?it/s]"
      ]
     },
     "metadata": {},
     "output_type": "display_data"
    },
    {
     "name": "stdout",
     "output_type": "stream",
     "text": [
      "epoch 0/100 loss:0.0075639668503611765  acc:0.1857707509881423\n"
     ]
    },
    {
     "data": {
      "application/vnd.jupyter.widget-view+json": {
       "model_id": "600416fff7534b388336b3b0d3751ffd",
       "version_major": 2,
       "version_minor": 0
      },
      "text/plain": [
       "  0%|          | 0/3 [00:00<?, ?it/s]"
      ]
     },
     "metadata": {},
     "output_type": "display_data"
    },
    {
     "name": "stdout",
     "output_type": "stream",
     "text": [
      "epoch 1/100 loss:0.006185272308520492  acc:0.3386034255599473\n"
     ]
    },
    {
     "data": {
      "application/vnd.jupyter.widget-view+json": {
       "model_id": "a1c9d48946f54e61bb4355070c6062d8",
       "version_major": 2,
       "version_minor": 0
      },
      "text/plain": [
       "  0%|          | 0/3 [00:00<?, ?it/s]"
      ]
     },
     "metadata": {},
     "output_type": "display_data"
    },
    {
     "name": "stdout",
     "output_type": "stream",
     "text": [
      "epoch 2/100 loss:0.0053364671423187056  acc:0.5138339920948617\n"
     ]
    },
    {
     "data": {
      "application/vnd.jupyter.widget-view+json": {
       "model_id": "d7d73bcf3d804812941cef7d94ce87e6",
       "version_major": 2,
       "version_minor": 0
      },
      "text/plain": [
       "  0%|          | 0/3 [00:00<?, ?it/s]"
      ]
     },
     "metadata": {},
     "output_type": "display_data"
    },
    {
     "name": "stdout",
     "output_type": "stream",
     "text": [
      "epoch 3/100 loss:0.004255648658209639  acc:0.5968379446640316\n"
     ]
    },
    {
     "data": {
      "application/vnd.jupyter.widget-view+json": {
       "model_id": "7c35ffd2b8534f34b7884c4ac5e7b591",
       "version_major": 2,
       "version_minor": 0
      },
      "text/plain": [
       "  0%|          | 0/3 [00:00<?, ?it/s]"
      ]
     },
     "metadata": {},
     "output_type": "display_data"
    },
    {
     "name": "stdout",
     "output_type": "stream",
     "text": [
      "epoch 4/100 loss:0.0036870509739449844  acc:0.7035573122529645\n"
     ]
    },
    {
     "data": {
      "application/vnd.jupyter.widget-view+json": {
       "model_id": "d6dee56750654b3cace460d37e8297ed",
       "version_major": 2,
       "version_minor": 0
      },
      "text/plain": [
       "  0%|          | 0/1 [00:00<?, ?it/s]"
      ]
     },
     "metadata": {},
     "output_type": "display_data"
    },
    {
     "name": "stdout",
     "output_type": "stream",
     "text": [
      "epoch 4/100  val_acc:0.849802371541502\n"
     ]
    },
    {
     "data": {
      "application/vnd.jupyter.widget-view+json": {
       "model_id": "48715bebfec74017bb37c8c40f148dd1",
       "version_major": 2,
       "version_minor": 0
      },
      "text/plain": [
       "  0%|          | 0/3 [00:00<?, ?it/s]"
      ]
     },
     "metadata": {},
     "output_type": "display_data"
    },
    {
     "name": "stdout",
     "output_type": "stream",
     "text": [
      "epoch 5/100 loss:0.002586461574192575  acc:0.7878787878787878\n"
     ]
    },
    {
     "data": {
      "application/vnd.jupyter.widget-view+json": {
       "model_id": "3dde1653a9f5463abc38205d98ff4576",
       "version_major": 2,
       "version_minor": 0
      },
      "text/plain": [
       "  0%|          | 0/3 [00:00<?, ?it/s]"
      ]
     },
     "metadata": {},
     "output_type": "display_data"
    },
    {
     "name": "stdout",
     "output_type": "stream",
     "text": [
      "epoch 6/100 loss:0.0018788460293620315  acc:0.8432147562582345\n"
     ]
    },
    {
     "data": {
      "application/vnd.jupyter.widget-view+json": {
       "model_id": "cc274ee5d65145baa9de43f38ae4ac9b",
       "version_major": 2,
       "version_minor": 0
      },
      "text/plain": [
       "  0%|          | 0/3 [00:00<?, ?it/s]"
      ]
     },
     "metadata": {},
     "output_type": "display_data"
    },
    {
     "name": "stdout",
     "output_type": "stream",
     "text": [
      "epoch 7/100 loss:0.0014694133609022863  acc:0.8787878787878788\n"
     ]
    },
    {
     "data": {
      "application/vnd.jupyter.widget-view+json": {
       "model_id": "61b6a87ee1314abbafbbb70517fbbd07",
       "version_major": 2,
       "version_minor": 0
      },
      "text/plain": [
       "  0%|          | 0/3 [00:00<?, ?it/s]"
      ]
     },
     "metadata": {},
     "output_type": "display_data"
    },
    {
     "name": "stdout",
     "output_type": "stream",
     "text": [
      "epoch 8/100 loss:0.0008066286761141891  acc:0.9288537549407114\n"
     ]
    },
    {
     "data": {
      "application/vnd.jupyter.widget-view+json": {
       "model_id": "b9bf91150a114b71a411c661444a753e",
       "version_major": 2,
       "version_minor": 0
      },
      "text/plain": [
       "  0%|          | 0/3 [00:00<?, ?it/s]"
      ]
     },
     "metadata": {},
     "output_type": "display_data"
    },
    {
     "name": "stdout",
     "output_type": "stream",
     "text": [
      "epoch 9/100 loss:0.0006129598939528736  acc:0.9433465085638999\n"
     ]
    },
    {
     "data": {
      "application/vnd.jupyter.widget-view+json": {
       "model_id": "c6de85865f89490da150a7c9ea2fa00d",
       "version_major": 2,
       "version_minor": 0
      },
      "text/plain": [
       "  0%|          | 0/1 [00:00<?, ?it/s]"
      ]
     },
     "metadata": {},
     "output_type": "display_data"
    },
    {
     "name": "stdout",
     "output_type": "stream",
     "text": [
      "epoch 9/100  val_acc:0.9407114624505929\n"
     ]
    },
    {
     "data": {
      "application/vnd.jupyter.widget-view+json": {
       "model_id": "b20cf6fc28944e5f90c279974350347a",
       "version_major": 2,
       "version_minor": 0
      },
      "text/plain": [
       "  0%|          | 0/3 [00:00<?, ?it/s]"
      ]
     },
     "metadata": {},
     "output_type": "display_data"
    },
    {
     "name": "stdout",
     "output_type": "stream",
     "text": [
      "epoch 10/100 loss:0.000707479451484831  acc:0.9472990777338604\n"
     ]
    },
    {
     "data": {
      "application/vnd.jupyter.widget-view+json": {
       "model_id": "1bfef89e52704587a1eaabd6ef4bb1c1",
       "version_major": 2,
       "version_minor": 0
      },
      "text/plain": [
       "  0%|          | 0/3 [00:00<?, ?it/s]"
      ]
     },
     "metadata": {},
     "output_type": "display_data"
    },
    {
     "name": "stdout",
     "output_type": "stream",
     "text": [
      "epoch 11/100 loss:0.00036626508427545804  acc:0.9749670619235836\n"
     ]
    },
    {
     "data": {
      "application/vnd.jupyter.widget-view+json": {
       "model_id": "f6238418dfe543b69fd3675d8756574f",
       "version_major": 2,
       "version_minor": 0
      },
      "text/plain": [
       "  0%|          | 0/3 [00:00<?, ?it/s]"
      ]
     },
     "metadata": {},
     "output_type": "display_data"
    },
    {
     "name": "stdout",
     "output_type": "stream",
     "text": [
      "epoch 12/100 loss:0.00022111054171215403  acc:0.9868247694334651\n"
     ]
    },
    {
     "data": {
      "application/vnd.jupyter.widget-view+json": {
       "model_id": "2a969421761e4d0eb30fc3625dcec523",
       "version_major": 2,
       "version_minor": 0
      },
      "text/plain": [
       "  0%|          | 0/3 [00:00<?, ?it/s]"
      ]
     },
     "metadata": {},
     "output_type": "display_data"
    },
    {
     "name": "stdout",
     "output_type": "stream",
     "text": [
      "epoch 13/100 loss:0.00017135927995988345  acc:0.9868247694334651\n"
     ]
    },
    {
     "data": {
      "application/vnd.jupyter.widget-view+json": {
       "model_id": "47c288d9b78b4f76b7cc6d02d2e6922a",
       "version_major": 2,
       "version_minor": 0
      },
      "text/plain": [
       "  0%|          | 0/3 [00:00<?, ?it/s]"
      ]
     },
     "metadata": {},
     "output_type": "display_data"
    },
    {
     "name": "stdout",
     "output_type": "stream",
     "text": [
      "epoch 14/100 loss:8.846473130391364e-05  acc:0.994729907773386\n"
     ]
    },
    {
     "data": {
      "application/vnd.jupyter.widget-view+json": {
       "model_id": "3462d3fabf0245849a147b67c4bd29c0",
       "version_major": 2,
       "version_minor": 0
      },
      "text/plain": [
       "  0%|          | 0/1 [00:00<?, ?it/s]"
      ]
     },
     "metadata": {},
     "output_type": "display_data"
    },
    {
     "name": "stdout",
     "output_type": "stream",
     "text": [
      "epoch 14/100  val_acc:0.9920948616600791\n"
     ]
    },
    {
     "data": {
      "application/vnd.jupyter.widget-view+json": {
       "model_id": "44f5dfe01d9142d9b074c5a1257a7e0b",
       "version_major": 2,
       "version_minor": 0
      },
      "text/plain": [
       "  0%|          | 0/3 [00:00<?, ?it/s]"
      ]
     },
     "metadata": {},
     "output_type": "display_data"
    },
    {
     "name": "stdout",
     "output_type": "stream",
     "text": [
      "epoch 15/100 loss:7.871950317630655e-05  acc:0.9934123847167325\n"
     ]
    },
    {
     "data": {
      "application/vnd.jupyter.widget-view+json": {
       "model_id": "716edbc9d6754ed4863e53a0461ca2e3",
       "version_major": 2,
       "version_minor": 0
      },
      "text/plain": [
       "  0%|          | 0/3 [00:00<?, ?it/s]"
      ]
     },
     "metadata": {},
     "output_type": "display_data"
    },
    {
     "name": "stdout",
     "output_type": "stream",
     "text": [
      "epoch 16/100 loss:4.482886303653045e-05  acc:0.9986824769433466\n"
     ]
    },
    {
     "data": {
      "application/vnd.jupyter.widget-view+json": {
       "model_id": "52890ef89fc541dbb7ccdd4babca57d4",
       "version_major": 2,
       "version_minor": 0
      },
      "text/plain": [
       "  0%|          | 0/3 [00:00<?, ?it/s]"
      ]
     },
     "metadata": {},
     "output_type": "display_data"
    },
    {
     "name": "stdout",
     "output_type": "stream",
     "text": [
      "epoch 17/100 loss:5.534347159019886e-05  acc:0.9934123847167325\n"
     ]
    },
    {
     "data": {
      "application/vnd.jupyter.widget-view+json": {
       "model_id": "f05169d70efa46199bbab1e149b9be71",
       "version_major": 2,
       "version_minor": 0
      },
      "text/plain": [
       "  0%|          | 0/3 [00:00<?, ?it/s]"
      ]
     },
     "metadata": {},
     "output_type": "display_data"
    },
    {
     "name": "stdout",
     "output_type": "stream",
     "text": [
      "epoch 18/100 loss:3.8003093748303115e-05  acc:0.9960474308300395\n"
     ]
    },
    {
     "data": {
      "application/vnd.jupyter.widget-view+json": {
       "model_id": "020e31ac1e1f439194eaa19e3203ece7",
       "version_major": 2,
       "version_minor": 0
      },
      "text/plain": [
       "  0%|          | 0/3 [00:00<?, ?it/s]"
      ]
     },
     "metadata": {},
     "output_type": "display_data"
    },
    {
     "name": "stdout",
     "output_type": "stream",
     "text": [
      "epoch 19/100 loss:3.857244228225137e-05  acc:0.9960474308300395\n"
     ]
    },
    {
     "data": {
      "application/vnd.jupyter.widget-view+json": {
       "model_id": "c6f0cf2f8f6649558df40ee52a3936d0",
       "version_major": 2,
       "version_minor": 0
      },
      "text/plain": [
       "  0%|          | 0/1 [00:00<?, ?it/s]"
      ]
     },
     "metadata": {},
     "output_type": "display_data"
    },
    {
     "name": "stdout",
     "output_type": "stream",
     "text": [
      "epoch 19/100  val_acc:0.9881422924901185\n"
     ]
    },
    {
     "data": {
      "application/vnd.jupyter.widget-view+json": {
       "model_id": "4865335b3dba4c55a197e38c516cf1d9",
       "version_major": 2,
       "version_minor": 0
      },
      "text/plain": [
       "  0%|          | 0/3 [00:00<?, ?it/s]"
      ]
     },
     "metadata": {},
     "output_type": "display_data"
    },
    {
     "name": "stdout",
     "output_type": "stream",
     "text": [
      "epoch 20/100 loss:0.0001488809764620815  acc:0.9920948616600791\n"
     ]
    },
    {
     "data": {
      "application/vnd.jupyter.widget-view+json": {
       "model_id": "87a42774602e4c3a931866a2f4856434",
       "version_major": 2,
       "version_minor": 0
      },
      "text/plain": [
       "  0%|          | 0/3 [00:00<?, ?it/s]"
      ]
     },
     "metadata": {},
     "output_type": "display_data"
    },
    {
     "name": "stdout",
     "output_type": "stream",
     "text": [
      "epoch 21/100 loss:0.00017593542055002314  acc:0.9894598155467721\n"
     ]
    },
    {
     "data": {
      "application/vnd.jupyter.widget-view+json": {
       "model_id": "1c39336244974d3db58a18396e69e224",
       "version_major": 2,
       "version_minor": 0
      },
      "text/plain": [
       "  0%|          | 0/3 [00:00<?, ?it/s]"
      ]
     },
     "metadata": {},
     "output_type": "display_data"
    },
    {
     "name": "stdout",
     "output_type": "stream",
     "text": [
      "epoch 22/100 loss:3.211607491506732e-05  acc:0.997364953886693\n"
     ]
    },
    {
     "data": {
      "application/vnd.jupyter.widget-view+json": {
       "model_id": "75438c061a5a44e296419be7d943888d",
       "version_major": 2,
       "version_minor": 0
      },
      "text/plain": [
       "  0%|          | 0/3 [00:00<?, ?it/s]"
      ]
     },
     "metadata": {},
     "output_type": "display_data"
    },
    {
     "name": "stdout",
     "output_type": "stream",
     "text": [
      "epoch 23/100 loss:0.00011832511226728813  acc:0.9881422924901185\n"
     ]
    },
    {
     "data": {
      "application/vnd.jupyter.widget-view+json": {
       "model_id": "18aa4bdb050146db81e199551ce20191",
       "version_major": 2,
       "version_minor": 0
      },
      "text/plain": [
       "  0%|          | 0/3 [00:00<?, ?it/s]"
      ]
     },
     "metadata": {},
     "output_type": "display_data"
    },
    {
     "name": "stdout",
     "output_type": "stream",
     "text": [
      "epoch 24/100 loss:2.6901908420095015e-05  acc:0.9986824769433466\n"
     ]
    },
    {
     "data": {
      "application/vnd.jupyter.widget-view+json": {
       "model_id": "2d1e26bc2d104db8947b02d331cdd8a5",
       "version_major": 2,
       "version_minor": 0
      },
      "text/plain": [
       "  0%|          | 0/1 [00:00<?, ?it/s]"
      ]
     },
     "metadata": {},
     "output_type": "display_data"
    },
    {
     "name": "stdout",
     "output_type": "stream",
     "text": [
      "epoch 24/100  val_acc:0.9881422924901185\n"
     ]
    },
    {
     "data": {
      "application/vnd.jupyter.widget-view+json": {
       "model_id": "7188141f4c6b4ff1867a5a202798c9b7",
       "version_major": 2,
       "version_minor": 0
      },
      "text/plain": [
       "  0%|          | 0/3 [00:00<?, ?it/s]"
      ]
     },
     "metadata": {},
     "output_type": "display_data"
    },
    {
     "name": "stdout",
     "output_type": "stream",
     "text": [
      "epoch 25/100 loss:9.092465024662347e-05  acc:0.997364953886693\n"
     ]
    },
    {
     "data": {
      "application/vnd.jupyter.widget-view+json": {
       "model_id": "a61e1ea0dd1b41c7b9f638b1a44c5d24",
       "version_major": 2,
       "version_minor": 0
      },
      "text/plain": [
       "  0%|          | 0/3 [00:00<?, ?it/s]"
      ]
     },
     "metadata": {},
     "output_type": "display_data"
    },
    {
     "name": "stdout",
     "output_type": "stream",
     "text": [
      "epoch 26/100 loss:4.3660667645149864e-05  acc:0.994729907773386\n"
     ]
    },
    {
     "data": {
      "application/vnd.jupyter.widget-view+json": {
       "model_id": "e3ad1a8df9ea4d18822a9f635f66fc56",
       "version_major": 2,
       "version_minor": 0
      },
      "text/plain": [
       "  0%|          | 0/3 [00:00<?, ?it/s]"
      ]
     },
     "metadata": {},
     "output_type": "display_data"
    },
    {
     "name": "stdout",
     "output_type": "stream",
     "text": [
      "epoch 27/100 loss:8.340758469068643e-05  acc:0.994729907773386\n"
     ]
    },
    {
     "data": {
      "application/vnd.jupyter.widget-view+json": {
       "model_id": "36363332c7f5495cac94e1db9b0e04f1",
       "version_major": 2,
       "version_minor": 0
      },
      "text/plain": [
       "  0%|          | 0/3 [00:00<?, ?it/s]"
      ]
     },
     "metadata": {},
     "output_type": "display_data"
    },
    {
     "name": "stdout",
     "output_type": "stream",
     "text": [
      "epoch 28/100 loss:4.8389811711741686e-05  acc:0.9960474308300395\n"
     ]
    },
    {
     "data": {
      "application/vnd.jupyter.widget-view+json": {
       "model_id": "806e88f9f65b4e278723fa0a301546f2",
       "version_major": 2,
       "version_minor": 0
      },
      "text/plain": [
       "  0%|          | 0/3 [00:00<?, ?it/s]"
      ]
     },
     "metadata": {},
     "output_type": "display_data"
    },
    {
     "name": "stdout",
     "output_type": "stream",
     "text": [
      "epoch 29/100 loss:2.178510838729355e-05  acc:0.9986824769433466\n"
     ]
    },
    {
     "data": {
      "application/vnd.jupyter.widget-view+json": {
       "model_id": "63a745f593b14307a4d1be57d7c36663",
       "version_major": 2,
       "version_minor": 0
      },
      "text/plain": [
       "  0%|          | 0/1 [00:00<?, ?it/s]"
      ]
     },
     "metadata": {},
     "output_type": "display_data"
    },
    {
     "name": "stdout",
     "output_type": "stream",
     "text": [
      "epoch 29/100  val_acc:0.9881422924901185\n"
     ]
    },
    {
     "data": {
      "application/vnd.jupyter.widget-view+json": {
       "model_id": "5115763d1def4c28ba59063bb6187e56",
       "version_major": 2,
       "version_minor": 0
      },
      "text/plain": [
       "  0%|          | 0/3 [00:00<?, ?it/s]"
      ]
     },
     "metadata": {},
     "output_type": "display_data"
    },
    {
     "name": "stdout",
     "output_type": "stream",
     "text": [
      "epoch 30/100 loss:6.453072951618233e-05  acc:0.997364953886693\n"
     ]
    },
    {
     "data": {
      "application/vnd.jupyter.widget-view+json": {
       "model_id": "725030590aef410f84e4dc3082afa746",
       "version_major": 2,
       "version_minor": 0
      },
      "text/plain": [
       "  0%|          | 0/3 [00:00<?, ?it/s]"
      ]
     },
     "metadata": {},
     "output_type": "display_data"
    },
    {
     "name": "stdout",
     "output_type": "stream",
     "text": [
      "epoch 31/100 loss:2.6566262954504907e-05  acc:0.9986824769433466\n"
     ]
    },
    {
     "data": {
      "application/vnd.jupyter.widget-view+json": {
       "model_id": "d99d98ffb2244a40a9aeedb845eed4e1",
       "version_major": 2,
       "version_minor": 0
      },
      "text/plain": [
       "  0%|          | 0/3 [00:00<?, ?it/s]"
      ]
     },
     "metadata": {},
     "output_type": "display_data"
    },
    {
     "name": "stdout",
     "output_type": "stream",
     "text": [
      "epoch 32/100 loss:5.489557475951035e-05  acc:0.9960474308300395\n"
     ]
    },
    {
     "data": {
      "application/vnd.jupyter.widget-view+json": {
       "model_id": "035e87e126b74c4494ebf41ae4a21d7b",
       "version_major": 2,
       "version_minor": 0
      },
      "text/plain": [
       "  0%|          | 0/3 [00:00<?, ?it/s]"
      ]
     },
     "metadata": {},
     "output_type": "display_data"
    },
    {
     "name": "stdout",
     "output_type": "stream",
     "text": [
      "epoch 33/100 loss:1.4176554806108374e-05  acc:0.9986824769433466\n"
     ]
    },
    {
     "data": {
      "application/vnd.jupyter.widget-view+json": {
       "model_id": "7a16815bd6de4bc7978919dafdbd59eb",
       "version_major": 2,
       "version_minor": 0
      },
      "text/plain": [
       "  0%|          | 0/3 [00:00<?, ?it/s]"
      ]
     },
     "metadata": {},
     "output_type": "display_data"
    },
    {
     "name": "stdout",
     "output_type": "stream",
     "text": [
      "epoch 34/100 loss:3.7096086791342266e-05  acc:0.997364953886693\n"
     ]
    },
    {
     "data": {
      "application/vnd.jupyter.widget-view+json": {
       "model_id": "80602247091e48b5aa0dd1a6cf77fb8b",
       "version_major": 2,
       "version_minor": 0
      },
      "text/plain": [
       "  0%|          | 0/1 [00:00<?, ?it/s]"
      ]
     },
     "metadata": {},
     "output_type": "display_data"
    },
    {
     "name": "stdout",
     "output_type": "stream",
     "text": [
      "epoch 34/100  val_acc:0.9881422924901185\n"
     ]
    },
    {
     "data": {
      "application/vnd.jupyter.widget-view+json": {
       "model_id": "19a05ef5400943ed96676a9c90c302b1",
       "version_major": 2,
       "version_minor": 0
      },
      "text/plain": [
       "  0%|          | 0/3 [00:00<?, ?it/s]"
      ]
     },
     "metadata": {},
     "output_type": "display_data"
    },
    {
     "name": "stdout",
     "output_type": "stream",
     "text": [
      "epoch 35/100 loss:1.975753877130343e-05  acc:0.9986824769433466\n"
     ]
    },
    {
     "data": {
      "application/vnd.jupyter.widget-view+json": {
       "model_id": "8962546a03224d6381aaf8e30ed08bbc",
       "version_major": 2,
       "version_minor": 0
      },
      "text/plain": [
       "  0%|          | 0/3 [00:00<?, ?it/s]"
      ]
     },
     "metadata": {},
     "output_type": "display_data"
    },
    {
     "name": "stdout",
     "output_type": "stream",
     "text": [
      "epoch 36/100 loss:7.40812014057074e-06  acc:1.0\n"
     ]
    },
    {
     "data": {
      "application/vnd.jupyter.widget-view+json": {
       "model_id": "bdde605ae01445c396fd50888ee8e2f6",
       "version_major": 2,
       "version_minor": 0
      },
      "text/plain": [
       "  0%|          | 0/3 [00:00<?, ?it/s]"
      ]
     },
     "metadata": {},
     "output_type": "display_data"
    },
    {
     "name": "stdout",
     "output_type": "stream",
     "text": [
      "epoch 37/100 loss:4.144406930220771e-05  acc:0.9986824769433466\n"
     ]
    },
    {
     "data": {
      "application/vnd.jupyter.widget-view+json": {
       "model_id": "da21c1c9cd804f85a310920de835fdfa",
       "version_major": 2,
       "version_minor": 0
      },
      "text/plain": [
       "  0%|          | 0/3 [00:00<?, ?it/s]"
      ]
     },
     "metadata": {},
     "output_type": "display_data"
    },
    {
     "name": "stdout",
     "output_type": "stream",
     "text": [
      "epoch 38/100 loss:9.588718387311783e-06  acc:1.0\n"
     ]
    },
    {
     "data": {
      "application/vnd.jupyter.widget-view+json": {
       "model_id": "bd389f5f37814c759d0fe46fc339d274",
       "version_major": 2,
       "version_minor": 0
      },
      "text/plain": [
       "  0%|          | 0/3 [00:00<?, ?it/s]"
      ]
     },
     "metadata": {},
     "output_type": "display_data"
    },
    {
     "name": "stdout",
     "output_type": "stream",
     "text": [
      "epoch 39/100 loss:2.226615352224809e-05  acc:0.9986824769433466\n"
     ]
    },
    {
     "data": {
      "application/vnd.jupyter.widget-view+json": {
       "model_id": "bbad7451301b44aa9e1b57ad99880b10",
       "version_major": 2,
       "version_minor": 0
      },
      "text/plain": [
       "  0%|          | 0/1 [00:00<?, ?it/s]"
      ]
     },
     "metadata": {},
     "output_type": "display_data"
    },
    {
     "name": "stdout",
     "output_type": "stream",
     "text": [
      "epoch 39/100  val_acc:0.9881422924901185\n"
     ]
    },
    {
     "data": {
      "application/vnd.jupyter.widget-view+json": {
       "model_id": "13a7e81204fc4acea73ce604f3a2d76f",
       "version_major": 2,
       "version_minor": 0
      },
      "text/plain": [
       "  0%|          | 0/3 [00:00<?, ?it/s]"
      ]
     },
     "metadata": {},
     "output_type": "display_data"
    },
    {
     "name": "stdout",
     "output_type": "stream",
     "text": [
      "epoch 40/100 loss:4.578480246686652e-06  acc:1.0\n"
     ]
    },
    {
     "data": {
      "application/vnd.jupyter.widget-view+json": {
       "model_id": "2ef21290416b4657909017e39e464d09",
       "version_major": 2,
       "version_minor": 0
      },
      "text/plain": [
       "  0%|          | 0/3 [00:00<?, ?it/s]"
      ]
     },
     "metadata": {},
     "output_type": "display_data"
    },
    {
     "name": "stdout",
     "output_type": "stream",
     "text": [
      "epoch 41/100 loss:8.075856339868663e-06  acc:1.0\n"
     ]
    },
    {
     "data": {
      "application/vnd.jupyter.widget-view+json": {
       "model_id": "ffcb089cc0a149d1968d53a95ba25e69",
       "version_major": 2,
       "version_minor": 0
      },
      "text/plain": [
       "  0%|          | 0/3 [00:00<?, ?it/s]"
      ]
     },
     "metadata": {},
     "output_type": "display_data"
    },
    {
     "name": "stdout",
     "output_type": "stream",
     "text": [
      "epoch 42/100 loss:3.3931166245890427e-06  acc:1.0\n"
     ]
    },
    {
     "data": {
      "application/vnd.jupyter.widget-view+json": {
       "model_id": "094db5dbe82945f1b7d1e498afbc257b",
       "version_major": 2,
       "version_minor": 0
      },
      "text/plain": [
       "  0%|          | 0/3 [00:00<?, ?it/s]"
      ]
     },
     "metadata": {},
     "output_type": "display_data"
    },
    {
     "name": "stdout",
     "output_type": "stream",
     "text": [
      "epoch 43/100 loss:5.967177761097749e-06  acc:1.0\n"
     ]
    },
    {
     "data": {
      "application/vnd.jupyter.widget-view+json": {
       "model_id": "ad3e147cb0d24db8955e69ba3a7262ce",
       "version_major": 2,
       "version_minor": 0
      },
      "text/plain": [
       "  0%|          | 0/3 [00:00<?, ?it/s]"
      ]
     },
     "metadata": {},
     "output_type": "display_data"
    },
    {
     "name": "stdout",
     "output_type": "stream",
     "text": [
      "epoch 44/100 loss:1.0702444291986495e-05  acc:0.9986824769433466\n"
     ]
    },
    {
     "data": {
      "application/vnd.jupyter.widget-view+json": {
       "model_id": "3844f862f33c45c686d7b848e87541a4",
       "version_major": 2,
       "version_minor": 0
      },
      "text/plain": [
       "  0%|          | 0/1 [00:00<?, ?it/s]"
      ]
     },
     "metadata": {},
     "output_type": "display_data"
    },
    {
     "name": "stdout",
     "output_type": "stream",
     "text": [
      "epoch 44/100  val_acc:0.9881422924901185\n"
     ]
    },
    {
     "data": {
      "application/vnd.jupyter.widget-view+json": {
       "model_id": "2df62f98974347ff9766be5710a7eacf",
       "version_major": 2,
       "version_minor": 0
      },
      "text/plain": [
       "  0%|          | 0/3 [00:00<?, ?it/s]"
      ]
     },
     "metadata": {},
     "output_type": "display_data"
    },
    {
     "name": "stdout",
     "output_type": "stream",
     "text": [
      "epoch 45/100 loss:3.3140740721156434e-06  acc:1.0\n"
     ]
    },
    {
     "data": {
      "application/vnd.jupyter.widget-view+json": {
       "model_id": "477e1daeaf3741d7b61087dd91db1e15",
       "version_major": 2,
       "version_minor": 0
      },
      "text/plain": [
       "  0%|          | 0/3 [00:00<?, ?it/s]"
      ]
     },
     "metadata": {},
     "output_type": "display_data"
    },
    {
     "name": "stdout",
     "output_type": "stream",
     "text": [
      "epoch 46/100 loss:3.289564850719275e-06  acc:1.0\n"
     ]
    },
    {
     "data": {
      "application/vnd.jupyter.widget-view+json": {
       "model_id": "2dc8a6eda55443dcbd58758fa3d27d5e",
       "version_major": 2,
       "version_minor": 0
      },
      "text/plain": [
       "  0%|          | 0/3 [00:00<?, ?it/s]"
      ]
     },
     "metadata": {},
     "output_type": "display_data"
    },
    {
     "name": "stdout",
     "output_type": "stream",
     "text": [
      "epoch 47/100 loss:7.362481039778203e-06  acc:1.0\n"
     ]
    },
    {
     "data": {
      "application/vnd.jupyter.widget-view+json": {
       "model_id": "92a61c8b73524335ad600e84036ceb0e",
       "version_major": 2,
       "version_minor": 0
      },
      "text/plain": [
       "  0%|          | 0/3 [00:00<?, ?it/s]"
      ]
     },
     "metadata": {},
     "output_type": "display_data"
    },
    {
     "name": "stdout",
     "output_type": "stream",
     "text": [
      "epoch 48/100 loss:1.4829009001993614e-06  acc:1.0\n"
     ]
    },
    {
     "data": {
      "application/vnd.jupyter.widget-view+json": {
       "model_id": "8da9b72a5b284fce8005b384694584b0",
       "version_major": 2,
       "version_minor": 0
      },
      "text/plain": [
       "  0%|          | 0/3 [00:00<?, ?it/s]"
      ]
     },
     "metadata": {},
     "output_type": "display_data"
    },
    {
     "name": "stdout",
     "output_type": "stream",
     "text": [
      "epoch 49/100 loss:2.4135460726160933e-06  acc:1.0\n"
     ]
    },
    {
     "data": {
      "application/vnd.jupyter.widget-view+json": {
       "model_id": "bceac2b2232c46a58da70e95b4f09d48",
       "version_major": 2,
       "version_minor": 0
      },
      "text/plain": [
       "  0%|          | 0/1 [00:00<?, ?it/s]"
      ]
     },
     "metadata": {},
     "output_type": "display_data"
    },
    {
     "name": "stdout",
     "output_type": "stream",
     "text": [
      "epoch 49/100  val_acc:0.9881422924901185\n"
     ]
    },
    {
     "data": {
      "application/vnd.jupyter.widget-view+json": {
       "model_id": "c32a146f01504439b2b75dee7c24a43f",
       "version_major": 2,
       "version_minor": 0
      },
      "text/plain": [
       "  0%|          | 0/3 [00:00<?, ?it/s]"
      ]
     },
     "metadata": {},
     "output_type": "display_data"
    },
    {
     "name": "stdout",
     "output_type": "stream",
     "text": [
      "epoch 50/100 loss:1.1841561007209132e-06  acc:1.0\n"
     ]
    },
    {
     "data": {
      "application/vnd.jupyter.widget-view+json": {
       "model_id": "514951c256a24971a0f11bf3f669381b",
       "version_major": 2,
       "version_minor": 0
      },
      "text/plain": [
       "  0%|          | 0/3 [00:00<?, ?it/s]"
      ]
     },
     "metadata": {},
     "output_type": "display_data"
    },
    {
     "name": "stdout",
     "output_type": "stream",
     "text": [
      "epoch 51/100 loss:1.7478728325784756e-06  acc:1.0\n"
     ]
    },
    {
     "data": {
      "application/vnd.jupyter.widget-view+json": {
       "model_id": "8a1e89b880d74aacb8899639c5451b2e",
       "version_major": 2,
       "version_minor": 0
      },
      "text/plain": [
       "  0%|          | 0/3 [00:00<?, ?it/s]"
      ]
     },
     "metadata": {},
     "output_type": "display_data"
    },
    {
     "name": "stdout",
     "output_type": "stream",
     "text": [
      "epoch 52/100 loss:1.387600512817448e-06  acc:1.0\n"
     ]
    },
    {
     "data": {
      "application/vnd.jupyter.widget-view+json": {
       "model_id": "f596663f1c174c1e88952c94b46aae68",
       "version_major": 2,
       "version_minor": 0
      },
      "text/plain": [
       "  0%|          | 0/3 [00:00<?, ?it/s]"
      ]
     },
     "metadata": {},
     "output_type": "display_data"
    },
    {
     "name": "stdout",
     "output_type": "stream",
     "text": [
      "epoch 53/100 loss:4.102305421109983e-06  acc:1.0\n"
     ]
    },
    {
     "data": {
      "application/vnd.jupyter.widget-view+json": {
       "model_id": "8ed3818283014aa0a79d7c0eb950f36a",
       "version_major": 2,
       "version_minor": 0
      },
      "text/plain": [
       "  0%|          | 0/3 [00:00<?, ?it/s]"
      ]
     },
     "metadata": {},
     "output_type": "display_data"
    },
    {
     "name": "stdout",
     "output_type": "stream",
     "text": [
      "epoch 54/100 loss:9.424032157836715e-07  acc:1.0\n"
     ]
    },
    {
     "data": {
      "application/vnd.jupyter.widget-view+json": {
       "model_id": "bb2f0f5631bf4748ac649cad1e9ea71a",
       "version_major": 2,
       "version_minor": 0
      },
      "text/plain": [
       "  0%|          | 0/1 [00:00<?, ?it/s]"
      ]
     },
     "metadata": {},
     "output_type": "display_data"
    },
    {
     "name": "stdout",
     "output_type": "stream",
     "text": [
      "epoch 54/100  val_acc:0.9881422924901185\n"
     ]
    },
    {
     "data": {
      "application/vnd.jupyter.widget-view+json": {
       "model_id": "b0676ac6b921420587d1f8abe98071cd",
       "version_major": 2,
       "version_minor": 0
      },
      "text/plain": [
       "  0%|          | 0/3 [00:00<?, ?it/s]"
      ]
     },
     "metadata": {},
     "output_type": "display_data"
    },
    {
     "name": "stdout",
     "output_type": "stream",
     "text": [
      "epoch 55/100 loss:9.095349160577655e-07  acc:1.0\n"
     ]
    },
    {
     "data": {
      "application/vnd.jupyter.widget-view+json": {
       "model_id": "2984d361dd104933aaffff4740c07956",
       "version_major": 2,
       "version_minor": 0
      },
      "text/plain": [
       "  0%|          | 0/3 [00:00<?, ?it/s]"
      ]
     },
     "metadata": {},
     "output_type": "display_data"
    },
    {
     "name": "stdout",
     "output_type": "stream",
     "text": [
      "epoch 56/100 loss:1.15455923066996e-06  acc:1.0\n"
     ]
    },
    {
     "data": {
      "application/vnd.jupyter.widget-view+json": {
       "model_id": "04ebb9e4bf1b4dbc9b3aa395b9867924",
       "version_major": 2,
       "version_minor": 0
      },
      "text/plain": [
       "  0%|          | 0/3 [00:00<?, ?it/s]"
      ]
     },
     "metadata": {},
     "output_type": "display_data"
    },
    {
     "name": "stdout",
     "output_type": "stream",
     "text": [
      "epoch 57/100 loss:1.551255320179815e-06  acc:1.0\n"
     ]
    },
    {
     "data": {
      "application/vnd.jupyter.widget-view+json": {
       "model_id": "1d367628964145949f337c0b4d39f65f",
       "version_major": 2,
       "version_minor": 0
      },
      "text/plain": [
       "  0%|          | 0/3 [00:00<?, ?it/s]"
      ]
     },
     "metadata": {},
     "output_type": "display_data"
    },
    {
     "name": "stdout",
     "output_type": "stream",
     "text": [
      "epoch 58/100 loss:6.158009238359525e-06  acc:1.0\n"
     ]
    },
    {
     "data": {
      "application/vnd.jupyter.widget-view+json": {
       "model_id": "b2ab279ae7e6494e87f00d95ae798ee4",
       "version_major": 2,
       "version_minor": 0
      },
      "text/plain": [
       "  0%|          | 0/3 [00:00<?, ?it/s]"
      ]
     },
     "metadata": {},
     "output_type": "display_data"
    },
    {
     "name": "stdout",
     "output_type": "stream",
     "text": [
      "epoch 59/100 loss:4.552591756803421e-06  acc:1.0\n"
     ]
    },
    {
     "data": {
      "application/vnd.jupyter.widget-view+json": {
       "model_id": "692e580dc8294ce49d7100bbfedcfb28",
       "version_major": 2,
       "version_minor": 0
      },
      "text/plain": [
       "  0%|          | 0/1 [00:00<?, ?it/s]"
      ]
     },
     "metadata": {},
     "output_type": "display_data"
    },
    {
     "name": "stdout",
     "output_type": "stream",
     "text": [
      "epoch 59/100  val_acc:0.9881422924901185\n"
     ]
    },
    {
     "data": {
      "application/vnd.jupyter.widget-view+json": {
       "model_id": "e1afbb96c27c4b0ca8fc6d286667dc54",
       "version_major": 2,
       "version_minor": 0
      },
      "text/plain": [
       "  0%|          | 0/3 [00:00<?, ?it/s]"
      ]
     },
     "metadata": {},
     "output_type": "display_data"
    },
    {
     "name": "stdout",
     "output_type": "stream",
     "text": [
      "epoch 60/100 loss:1.2764551603800969e-06  acc:1.0\n"
     ]
    },
    {
     "data": {
      "application/vnd.jupyter.widget-view+json": {
       "model_id": "30b2af516b6a420bb6ff9fdbefe7edf3",
       "version_major": 2,
       "version_minor": 0
      },
      "text/plain": [
       "  0%|          | 0/3 [00:00<?, ?it/s]"
      ]
     },
     "metadata": {},
     "output_type": "display_data"
    },
    {
     "name": "stdout",
     "output_type": "stream",
     "text": [
      "epoch 61/100 loss:9.015987827215585e-07  acc:1.0\n"
     ]
    },
    {
     "data": {
      "application/vnd.jupyter.widget-view+json": {
       "model_id": "eec1f436f20044ddace9606b06a38d38",
       "version_major": 2,
       "version_minor": 0
      },
      "text/plain": [
       "  0%|          | 0/3 [00:00<?, ?it/s]"
      ]
     },
     "metadata": {},
     "output_type": "display_data"
    },
    {
     "name": "stdout",
     "output_type": "stream",
     "text": [
      "epoch 62/100 loss:1.196453974128864e-06  acc:1.0\n"
     ]
    },
    {
     "data": {
      "application/vnd.jupyter.widget-view+json": {
       "model_id": "4536f374a25747f08c657b9e6b476eff",
       "version_major": 2,
       "version_minor": 0
      },
      "text/plain": [
       "  0%|          | 0/3 [00:00<?, ?it/s]"
      ]
     },
     "metadata": {},
     "output_type": "display_data"
    },
    {
     "name": "stdout",
     "output_type": "stream",
     "text": [
      "epoch 63/100 loss:5.795537374563373e-06  acc:0.9986824769433466\n"
     ]
    },
    {
     "data": {
      "application/vnd.jupyter.widget-view+json": {
       "model_id": "6782ca9e1fa64ddda3424b5f51b98a68",
       "version_major": 2,
       "version_minor": 0
      },
      "text/plain": [
       "  0%|          | 0/3 [00:00<?, ?it/s]"
      ]
     },
     "metadata": {},
     "output_type": "display_data"
    },
    {
     "name": "stdout",
     "output_type": "stream",
     "text": [
      "epoch 64/100 loss:1.8712090759639959e-06  acc:1.0\n"
     ]
    },
    {
     "data": {
      "application/vnd.jupyter.widget-view+json": {
       "model_id": "2064495d606a409cabca697474d1baf8",
       "version_major": 2,
       "version_minor": 0
      },
      "text/plain": [
       "  0%|          | 0/1 [00:00<?, ?it/s]"
      ]
     },
     "metadata": {},
     "output_type": "display_data"
    },
    {
     "name": "stdout",
     "output_type": "stream",
     "text": [
      "epoch 64/100  val_acc:0.9881422924901185\n"
     ]
    },
    {
     "data": {
      "application/vnd.jupyter.widget-view+json": {
       "model_id": "75df5f671a6a4bc8a36d975648b8f1a9",
       "version_major": 2,
       "version_minor": 0
      },
      "text/plain": [
       "  0%|          | 0/3 [00:00<?, ?it/s]"
      ]
     },
     "metadata": {},
     "output_type": "display_data"
    },
    {
     "name": "stdout",
     "output_type": "stream",
     "text": [
      "epoch 65/100 loss:5.40934917702596e-07  acc:1.0\n"
     ]
    },
    {
     "data": {
      "application/vnd.jupyter.widget-view+json": {
       "model_id": "695e658d65664b0791207dc5a907c136",
       "version_major": 2,
       "version_minor": 0
      },
      "text/plain": [
       "  0%|          | 0/3 [00:00<?, ?it/s]"
      ]
     },
     "metadata": {},
     "output_type": "display_data"
    },
    {
     "name": "stdout",
     "output_type": "stream",
     "text": [
      "epoch 66/100 loss:6.648281361227941e-07  acc:1.0\n"
     ]
    },
    {
     "data": {
      "application/vnd.jupyter.widget-view+json": {
       "model_id": "e3610d61a6be43328dd63ad12a6d8629",
       "version_major": 2,
       "version_minor": 0
      },
      "text/plain": [
       "  0%|          | 0/3 [00:00<?, ?it/s]"
      ]
     },
     "metadata": {},
     "output_type": "display_data"
    },
    {
     "name": "stdout",
     "output_type": "stream",
     "text": [
      "epoch 67/100 loss:1.4167231898257884e-06  acc:1.0\n"
     ]
    },
    {
     "data": {
      "application/vnd.jupyter.widget-view+json": {
       "model_id": "a2f49b81905e45069311dde959638521",
       "version_major": 2,
       "version_minor": 0
      },
      "text/plain": [
       "  0%|          | 0/3 [00:00<?, ?it/s]"
      ]
     },
     "metadata": {},
     "output_type": "display_data"
    },
    {
     "name": "stdout",
     "output_type": "stream",
     "text": [
      "epoch 68/100 loss:5.052223936127e-05  acc:0.9986824769433466\n"
     ]
    },
    {
     "data": {
      "application/vnd.jupyter.widget-view+json": {
       "model_id": "1c088799980c48dc9ec368b1e5674f8b",
       "version_major": 2,
       "version_minor": 0
      },
      "text/plain": [
       "  0%|          | 0/3 [00:00<?, ?it/s]"
      ]
     },
     "metadata": {},
     "output_type": "display_data"
    },
    {
     "name": "stdout",
     "output_type": "stream",
     "text": [
      "epoch 69/100 loss:2.1556858088372075e-06  acc:1.0\n"
     ]
    },
    {
     "data": {
      "application/vnd.jupyter.widget-view+json": {
       "model_id": "8883ac3387c449989e3cefcd3a562b6b",
       "version_major": 2,
       "version_minor": 0
      },
      "text/plain": [
       "  0%|          | 0/1 [00:00<?, ?it/s]"
      ]
     },
     "metadata": {},
     "output_type": "display_data"
    },
    {
     "name": "stdout",
     "output_type": "stream",
     "text": [
      "epoch 69/100  val_acc:0.9881422924901185\n"
     ]
    },
    {
     "data": {
      "application/vnd.jupyter.widget-view+json": {
       "model_id": "06173e705c4d420c8902c83792a331ff",
       "version_major": 2,
       "version_minor": 0
      },
      "text/plain": [
       "  0%|          | 0/3 [00:00<?, ?it/s]"
      ]
     },
     "metadata": {},
     "output_type": "display_data"
    },
    {
     "name": "stdout",
     "output_type": "stream",
     "text": [
      "epoch 70/100 loss:2.857216336912867e-05  acc:0.997364953886693\n"
     ]
    },
    {
     "data": {
      "application/vnd.jupyter.widget-view+json": {
       "model_id": "0b0cbe103c014f8ea623398f2758f582",
       "version_major": 2,
       "version_minor": 0
      },
      "text/plain": [
       "  0%|          | 0/3 [00:00<?, ?it/s]"
      ]
     },
     "metadata": {},
     "output_type": "display_data"
    },
    {
     "name": "stdout",
     "output_type": "stream",
     "text": [
      "epoch 71/100 loss:2.6384950998915317e-06  acc:1.0\n"
     ]
    },
    {
     "data": {
      "application/vnd.jupyter.widget-view+json": {
       "model_id": "39db299b27a540158ba80c19dd181eca",
       "version_major": 2,
       "version_minor": 0
      },
      "text/plain": [
       "  0%|          | 0/3 [00:00<?, ?it/s]"
      ]
     },
     "metadata": {},
     "output_type": "display_data"
    },
    {
     "name": "stdout",
     "output_type": "stream",
     "text": [
      "epoch 72/100 loss:9.421920692192314e-06  acc:0.9986824769433466\n"
     ]
    },
    {
     "data": {
      "application/vnd.jupyter.widget-view+json": {
       "model_id": "9e210a961c404936b6c287f1c609ac38",
       "version_major": 2,
       "version_minor": 0
      },
      "text/plain": [
       "  0%|          | 0/3 [00:00<?, ?it/s]"
      ]
     },
     "metadata": {},
     "output_type": "display_data"
    },
    {
     "name": "stdout",
     "output_type": "stream",
     "text": [
      "epoch 73/100 loss:5.968088271941165e-07  acc:1.0\n"
     ]
    },
    {
     "data": {
      "application/vnd.jupyter.widget-view+json": {
       "model_id": "b7bfae79ef8d4b73a6425cfb74a8eba4",
       "version_major": 2,
       "version_minor": 0
      },
      "text/plain": [
       "  0%|          | 0/3 [00:00<?, ?it/s]"
      ]
     },
     "metadata": {},
     "output_type": "display_data"
    },
    {
     "name": "stdout",
     "output_type": "stream",
     "text": [
      "epoch 74/100 loss:3.8279487879649885e-06  acc:1.0\n"
     ]
    },
    {
     "data": {
      "application/vnd.jupyter.widget-view+json": {
       "model_id": "a36a29c0c54048fab929c92fe215576e",
       "version_major": 2,
       "version_minor": 0
      },
      "text/plain": [
       "  0%|          | 0/1 [00:00<?, ?it/s]"
      ]
     },
     "metadata": {},
     "output_type": "display_data"
    },
    {
     "name": "stdout",
     "output_type": "stream",
     "text": [
      "epoch 74/100  val_acc:0.9841897233201581\n"
     ]
    },
    {
     "data": {
      "application/vnd.jupyter.widget-view+json": {
       "model_id": "f70ec1c694d74d1fabcb4984ee80c859",
       "version_major": 2,
       "version_minor": 0
      },
      "text/plain": [
       "  0%|          | 0/3 [00:00<?, ?it/s]"
      ]
     },
     "metadata": {},
     "output_type": "display_data"
    },
    {
     "name": "stdout",
     "output_type": "stream",
     "text": [
      "epoch 75/100 loss:1.0283862074041968e-05  acc:0.9986824769433466\n"
     ]
    },
    {
     "data": {
      "application/vnd.jupyter.widget-view+json": {
       "model_id": "aef4ad4116244ac8b260c27d76acfb28",
       "version_major": 2,
       "version_minor": 0
      },
      "text/plain": [
       "  0%|          | 0/3 [00:00<?, ?it/s]"
      ]
     },
     "metadata": {},
     "output_type": "display_data"
    },
    {
     "name": "stdout",
     "output_type": "stream",
     "text": [
      "epoch 76/100 loss:1.9463477023553264e-05  acc:0.9986824769433466\n"
     ]
    },
    {
     "data": {
      "application/vnd.jupyter.widget-view+json": {
       "model_id": "ee13901378184e3284305b335035b9d7",
       "version_major": 2,
       "version_minor": 0
      },
      "text/plain": [
       "  0%|          | 0/3 [00:00<?, ?it/s]"
      ]
     },
     "metadata": {},
     "output_type": "display_data"
    },
    {
     "name": "stdout",
     "output_type": "stream",
     "text": [
      "epoch 77/100 loss:3.2991160836797184e-06  acc:1.0\n"
     ]
    },
    {
     "data": {
      "application/vnd.jupyter.widget-view+json": {
       "model_id": "db2859aa36d9457aba6c9cfd440b72c5",
       "version_major": 2,
       "version_minor": 0
      },
      "text/plain": [
       "  0%|          | 0/3 [00:00<?, ?it/s]"
      ]
     },
     "metadata": {},
     "output_type": "display_data"
    },
    {
     "name": "stdout",
     "output_type": "stream",
     "text": [
      "epoch 78/100 loss:2.1243835923633732e-05  acc:0.9986824769433466\n"
     ]
    },
    {
     "data": {
      "application/vnd.jupyter.widget-view+json": {
       "model_id": "102d62eea9d947c68ecdc94d81483e6d",
       "version_major": 2,
       "version_minor": 0
      },
      "text/plain": [
       "  0%|          | 0/3 [00:00<?, ?it/s]"
      ]
     },
     "metadata": {},
     "output_type": "display_data"
    },
    {
     "name": "stdout",
     "output_type": "stream",
     "text": [
      "epoch 79/100 loss:1.1383500612771558e-05  acc:0.9986824769433466\n"
     ]
    },
    {
     "data": {
      "application/vnd.jupyter.widget-view+json": {
       "model_id": "0513846ca9544878944d527536a1d922",
       "version_major": 2,
       "version_minor": 0
      },
      "text/plain": [
       "  0%|          | 0/1 [00:00<?, ?it/s]"
      ]
     },
     "metadata": {},
     "output_type": "display_data"
    },
    {
     "name": "stdout",
     "output_type": "stream",
     "text": [
      "epoch 79/100  val_acc:0.9881422924901185\n"
     ]
    },
    {
     "data": {
      "application/vnd.jupyter.widget-view+json": {
       "model_id": "ba789b3bb74c493a8ef2526fefc079dd",
       "version_major": 2,
       "version_minor": 0
      },
      "text/plain": [
       "  0%|          | 0/3 [00:00<?, ?it/s]"
      ]
     },
     "metadata": {},
     "output_type": "display_data"
    },
    {
     "name": "stdout",
     "output_type": "stream",
     "text": [
      "epoch 80/100 loss:7.276974982865479e-06  acc:1.0\n"
     ]
    },
    {
     "data": {
      "application/vnd.jupyter.widget-view+json": {
       "model_id": "d8315dda415849fdad9e430f736c2994",
       "version_major": 2,
       "version_minor": 0
      },
      "text/plain": [
       "  0%|          | 0/3 [00:00<?, ?it/s]"
      ]
     },
     "metadata": {},
     "output_type": "display_data"
    },
    {
     "name": "stdout",
     "output_type": "stream",
     "text": [
      "epoch 81/100 loss:7.883114976457495e-06  acc:1.0\n"
     ]
    },
    {
     "data": {
      "application/vnd.jupyter.widget-view+json": {
       "model_id": "5d89771c4d7c42ee943816c3de27d23a",
       "version_major": 2,
       "version_minor": 0
      },
      "text/plain": [
       "  0%|          | 0/3 [00:00<?, ?it/s]"
      ]
     },
     "metadata": {},
     "output_type": "display_data"
    },
    {
     "name": "stdout",
     "output_type": "stream",
     "text": [
      "epoch 82/100 loss:1.0087636571833974e-05  acc:0.9986824769433466\n"
     ]
    },
    {
     "data": {
      "application/vnd.jupyter.widget-view+json": {
       "model_id": "fb13bda2e22d410ab8fecc73b38b71ca",
       "version_major": 2,
       "version_minor": 0
      },
      "text/plain": [
       "  0%|          | 0/3 [00:00<?, ?it/s]"
      ]
     },
     "metadata": {},
     "output_type": "display_data"
    },
    {
     "name": "stdout",
     "output_type": "stream",
     "text": [
      "epoch 83/100 loss:1.1811587896335463e-06  acc:1.0\n"
     ]
    },
    {
     "data": {
      "application/vnd.jupyter.widget-view+json": {
       "model_id": "b0d148a2537e4b58ba2c77ecd90a87b0",
       "version_major": 2,
       "version_minor": 0
      },
      "text/plain": [
       "  0%|          | 0/3 [00:00<?, ?it/s]"
      ]
     },
     "metadata": {},
     "output_type": "display_data"
    },
    {
     "name": "stdout",
     "output_type": "stream",
     "text": [
      "epoch 84/100 loss:3.869119894780385e-06  acc:1.0\n"
     ]
    },
    {
     "data": {
      "application/vnd.jupyter.widget-view+json": {
       "model_id": "41286e1237a041f99d9788826ebff32e",
       "version_major": 2,
       "version_minor": 0
      },
      "text/plain": [
       "  0%|          | 0/1 [00:00<?, ?it/s]"
      ]
     },
     "metadata": {},
     "output_type": "display_data"
    },
    {
     "name": "stdout",
     "output_type": "stream",
     "text": [
      "epoch 84/100  val_acc:0.9881422924901185\n"
     ]
    },
    {
     "data": {
      "application/vnd.jupyter.widget-view+json": {
       "model_id": "a0cd5a8f259c44938f253d6403fa4574",
       "version_major": 2,
       "version_minor": 0
      },
      "text/plain": [
       "  0%|          | 0/3 [00:00<?, ?it/s]"
      ]
     },
     "metadata": {},
     "output_type": "display_data"
    },
    {
     "name": "stdout",
     "output_type": "stream",
     "text": [
      "epoch 85/100 loss:5.131691636512122e-07  acc:1.0\n"
     ]
    },
    {
     "data": {
      "application/vnd.jupyter.widget-view+json": {
       "model_id": "ec4a4d106be1446cb87471021ef67d28",
       "version_major": 2,
       "version_minor": 0
      },
      "text/plain": [
       "  0%|          | 0/3 [00:00<?, ?it/s]"
      ]
     },
     "metadata": {},
     "output_type": "display_data"
    },
    {
     "name": "stdout",
     "output_type": "stream",
     "text": [
      "epoch 86/100 loss:2.2260030214361875e-06  acc:1.0\n"
     ]
    },
    {
     "data": {
      "application/vnd.jupyter.widget-view+json": {
       "model_id": "f1f9be0e607345d9beb67901372a0066",
       "version_major": 2,
       "version_minor": 0
      },
      "text/plain": [
       "  0%|          | 0/3 [00:00<?, ?it/s]"
      ]
     },
     "metadata": {},
     "output_type": "display_data"
    },
    {
     "name": "stdout",
     "output_type": "stream",
     "text": [
      "epoch 87/100 loss:1.1656725609230862e-06  acc:1.0\n"
     ]
    },
    {
     "data": {
      "application/vnd.jupyter.widget-view+json": {
       "model_id": "4842fb471e27424e9810327ba785b482",
       "version_major": 2,
       "version_minor": 0
      },
      "text/plain": [
       "  0%|          | 0/3 [00:00<?, ?it/s]"
      ]
     },
     "metadata": {},
     "output_type": "display_data"
    },
    {
     "name": "stdout",
     "output_type": "stream",
     "text": [
      "epoch 88/100 loss:1.096411809700692e-06  acc:1.0\n"
     ]
    },
    {
     "data": {
      "application/vnd.jupyter.widget-view+json": {
       "model_id": "1ffff4e425074a45af7a6fc98ac6ae05",
       "version_major": 2,
       "version_minor": 0
      },
      "text/plain": [
       "  0%|          | 0/3 [00:00<?, ?it/s]"
      ]
     },
     "metadata": {},
     "output_type": "display_data"
    },
    {
     "name": "stdout",
     "output_type": "stream",
     "text": [
      "epoch 89/100 loss:2.10509907603951e-06  acc:1.0\n"
     ]
    },
    {
     "data": {
      "application/vnd.jupyter.widget-view+json": {
       "model_id": "69091abea4ad44298cce82764efa01d0",
       "version_major": 2,
       "version_minor": 0
      },
      "text/plain": [
       "  0%|          | 0/1 [00:00<?, ?it/s]"
      ]
     },
     "metadata": {},
     "output_type": "display_data"
    },
    {
     "name": "stdout",
     "output_type": "stream",
     "text": [
      "epoch 89/100  val_acc:0.9881422924901185\n"
     ]
    },
    {
     "data": {
      "application/vnd.jupyter.widget-view+json": {
       "model_id": "0f52c40d404f485bb77d752234466392",
       "version_major": 2,
       "version_minor": 0
      },
      "text/plain": [
       "  0%|          | 0/3 [00:00<?, ?it/s]"
      ]
     },
     "metadata": {},
     "output_type": "display_data"
    },
    {
     "name": "stdout",
     "output_type": "stream",
     "text": [
      "epoch 90/100 loss:1.4441793466082558e-06  acc:1.0\n"
     ]
    },
    {
     "data": {
      "application/vnd.jupyter.widget-view+json": {
       "model_id": "2114d4c1945e49f2adf895ec5824b1a3",
       "version_major": 2,
       "version_minor": 0
      },
      "text/plain": [
       "  0%|          | 0/3 [00:00<?, ?it/s]"
      ]
     },
     "metadata": {},
     "output_type": "display_data"
    },
    {
     "name": "stdout",
     "output_type": "stream",
     "text": [
      "epoch 91/100 loss:2.712621722061786e-06  acc:1.0\n"
     ]
    },
    {
     "data": {
      "application/vnd.jupyter.widget-view+json": {
       "model_id": "9127f7de354943dba9b13cd141eee0ae",
       "version_major": 2,
       "version_minor": 0
      },
      "text/plain": [
       "  0%|          | 0/3 [00:00<?, ?it/s]"
      ]
     },
     "metadata": {},
     "output_type": "display_data"
    },
    {
     "name": "stdout",
     "output_type": "stream",
     "text": [
      "epoch 92/100 loss:2.402644492860648e-06  acc:1.0\n"
     ]
    },
    {
     "data": {
      "application/vnd.jupyter.widget-view+json": {
       "model_id": "6074265d563d42dda7ad9743f16416f6",
       "version_major": 2,
       "version_minor": 0
      },
      "text/plain": [
       "  0%|          | 0/3 [00:00<?, ?it/s]"
      ]
     },
     "metadata": {},
     "output_type": "display_data"
    },
    {
     "name": "stdout",
     "output_type": "stream",
     "text": [
      "epoch 93/100 loss:9.735325856053925e-07  acc:1.0\n"
     ]
    },
    {
     "data": {
      "application/vnd.jupyter.widget-view+json": {
       "model_id": "22359902343a47718a128014e4dca7d9",
       "version_major": 2,
       "version_minor": 0
      },
      "text/plain": [
       "  0%|          | 0/3 [00:00<?, ?it/s]"
      ]
     },
     "metadata": {},
     "output_type": "display_data"
    },
    {
     "name": "stdout",
     "output_type": "stream",
     "text": [
      "epoch 94/100 loss:2.702142598401333e-06  acc:1.0\n"
     ]
    },
    {
     "data": {
      "application/vnd.jupyter.widget-view+json": {
       "model_id": "c12f90e94f6c471892aaaa969a0a0933",
       "version_major": 2,
       "version_minor": 0
      },
      "text/plain": [
       "  0%|          | 0/1 [00:00<?, ?it/s]"
      ]
     },
     "metadata": {},
     "output_type": "display_data"
    },
    {
     "name": "stdout",
     "output_type": "stream",
     "text": [
      "epoch 94/100  val_acc:0.9881422924901185\n"
     ]
    },
    {
     "data": {
      "application/vnd.jupyter.widget-view+json": {
       "model_id": "25af2db66b154a95822e03c21ffc6678",
       "version_major": 2,
       "version_minor": 0
      },
      "text/plain": [
       "  0%|          | 0/3 [00:00<?, ?it/s]"
      ]
     },
     "metadata": {},
     "output_type": "display_data"
    },
    {
     "name": "stdout",
     "output_type": "stream",
     "text": [
      "epoch 95/100 loss:5.921510112476787e-07  acc:1.0\n"
     ]
    },
    {
     "data": {
      "application/vnd.jupyter.widget-view+json": {
       "model_id": "2fd6471387c34c5782db0243fae653d0",
       "version_major": 2,
       "version_minor": 0
      },
      "text/plain": [
       "  0%|          | 0/3 [00:00<?, ?it/s]"
      ]
     },
     "metadata": {},
     "output_type": "display_data"
    },
    {
     "name": "stdout",
     "output_type": "stream",
     "text": [
      "epoch 96/100 loss:3.686102819961848e-07  acc:1.0\n"
     ]
    },
    {
     "data": {
      "application/vnd.jupyter.widget-view+json": {
       "model_id": "d220c11b8a6a4280aad9f3c65b0dae96",
       "version_major": 2,
       "version_minor": 0
      },
      "text/plain": [
       "  0%|          | 0/3 [00:00<?, ?it/s]"
      ]
     },
     "metadata": {},
     "output_type": "display_data"
    },
    {
     "name": "stdout",
     "output_type": "stream",
     "text": [
      "epoch 97/100 loss:6.769864002966024e-07  acc:1.0\n"
     ]
    },
    {
     "data": {
      "application/vnd.jupyter.widget-view+json": {
       "model_id": "c7b9eb534cfa4945bc7f3cada7cbd7a8",
       "version_major": 2,
       "version_minor": 0
      },
      "text/plain": [
       "  0%|          | 0/3 [00:00<?, ?it/s]"
      ]
     },
     "metadata": {},
     "output_type": "display_data"
    },
    {
     "name": "stdout",
     "output_type": "stream",
     "text": [
      "epoch 98/100 loss:1.1766215959312001e-05  acc:0.9986824769433466\n"
     ]
    },
    {
     "data": {
      "application/vnd.jupyter.widget-view+json": {
       "model_id": "cc3fedbcc472428a9ac7f2514a88ef81",
       "version_major": 2,
       "version_minor": 0
      },
      "text/plain": [
       "  0%|          | 0/3 [00:00<?, ?it/s]"
      ]
     },
     "metadata": {},
     "output_type": "display_data"
    },
    {
     "name": "stdout",
     "output_type": "stream",
     "text": [
      "epoch 99/100 loss:1.4167619278293706e-06  acc:1.0\n"
     ]
    },
    {
     "data": {
      "application/vnd.jupyter.widget-view+json": {
       "model_id": "8e8d258786d24350bcedf4efa646d711",
       "version_major": 2,
       "version_minor": 0
      },
      "text/plain": [
       "  0%|          | 0/1 [00:00<?, ?it/s]"
      ]
     },
     "metadata": {},
     "output_type": "display_data"
    },
    {
     "name": "stdout",
     "output_type": "stream",
     "text": [
      "epoch 99/100  val_acc:0.9881422924901185\n",
      "Stop in epoch 99\n"
     ]
    },
    {
     "data": {
      "image/png": "[encoded data removed]",
      "text/plain": [
       "<Figure size 640x480 with 2 Axes>"
      ]
     },
     "metadata": {},
     "output_type": "display_data"
    }
   ],
   "source": [
    "## training the model\n",
    "device = torch.device(DEVICE if DEVICE>=0 and torch.cuda.is_available() else 'cpu')\n",
    "loss_list = []\n",
    "acc_list = []\n",
    "val_acc_list = []\n",
    "val_epoch_list = []\n",
    "\n",
    "model = HybridSN(N_PCA,PATCH_SIZE,class_nums=NUM_CLASS)\n",
    "model.to(device)\n",
    "optimizer = torch.optim.Adam(model.parameters(),LR,weight_decay=WEIGHT_DECAY)\n",
    "loss_func = nn.CrossEntropyLoss()\n",
    "batch_num = len(train_loader)\n",
    "train_num = train_loader.dataset.__len__()\n",
    "val_num = val_loader.dataset.__len__()\n",
    "\n",
    "fig = plt.figure()\n",
    "ax1 = fig.add_subplot(2,1,1)\n",
    "ax2 = fig.add_subplot(2,1,2)\n",
    "try:\n",
    "    for e in tqdm(range(EPOCH), desc=\"Training:\"):\n",
    "        model.train()\n",
    "        avg_loss = 0.\n",
    "        train_acc = 0\n",
    "        for batch_idx, (data, target) in tqdm(enumerate(train_loader),total=batch_num):\n",
    "            data,target = data.to(device),target.to(device)\n",
    "            optimizer.zero_grad()\n",
    "            out = model(data)\n",
    "            target = target - 1  ## class 0 in out is class 1 in target\n",
    "            loss = loss_func(out,target)\n",
    "            loss.backward()\n",
    "            optimizer.step()\n",
    "            avg_loss += loss.item()\n",
    "            _,pred = torch.max(out,dim=1)\n",
    "            train_acc += (pred == target).sum().item()\n",
    "        loss_list.append(avg_loss/train_num)\n",
    "        acc_list.append(train_acc/train_num)\n",
    "        print(f\"epoch {e}/{EPOCH} loss:{loss_list[e]}  acc:{acc_list[e]}\")\n",
    "        ## valuation\n",
    "        if (e+1)%VAL_EPOCH == 0 or (e+1)==EPOCH:\n",
    "            val_acc =0\n",
    "            model.eval()\n",
    "            for batch_idx, (data, target) in tqdm(enumerate(val_loader),total=len(val_loader)):\n",
    "                data,target = data.to(device),target.to(device)\n",
    "                out = model(data)\n",
    "                target = target - 1  ## class 0 in out is class 1 in target\n",
    "                _,pred = torch.max(out,dim=1)\n",
    "                val_acc += (pred == target).sum().item()\n",
    "            val_acc_list.append(val_acc/val_num)\n",
    "            val_epoch_list.append(e)\n",
    "            print(f\"epoch {e}/{EPOCH}  val_acc:{val_acc_list[-1]}\")\n",
    "            save_name = os.path.join(SAVE_PATH, f\"epoch_{e}_acc_{val_acc_list[-1]:.4f}.pth\")\n",
    "            torch.save(model.state_dict(),save_name)\n",
    "    ax1.plot(np.arange(e+1),loss_list)\n",
    "    ax1.set_title('loss')\n",
    "    ax1.set_xlabel('epoch')\n",
    "    ax2.plot(np.arange(e+1),acc_list,label = 'train_acc')\n",
    "    ax2.plot(val_epoch_list,val_acc_list,label = 'val_acc')\n",
    "    ax2.set_title('acc')\n",
    "    ax2.set_xlabel('epoch')\n",
    "    ax2.legend()\n",
    "except Exception as exc:\n",
    "    print(exc)\n",
    "finally: \n",
    "    print(f'Stop in epoch {e}')\n"
   ]
  },
  {
   "cell_type": "markdown",
   "metadata": {},
   "source": [
    "以上代码是用于训练混合卷积神经网络模型的部分。\n",
    "\n",
    "device 和 model.to(device)：这部分代码用于将模型移动到 GPU 或 CPU 上进行训练。如果 GPU 可用且 DEVICE 大于等于 0，则将模型移动到 GPU 上，否则使用 CPU。\n",
    "\n",
    "optimizer 和 loss_func：定义了优化器和损失函数。优化器使用 Adam 优化算法，损失函数使用交叉熵损失函数。\n",
    "\n",
    "训练循环：使用 for 循环对模型进行训练。在每个 epoch 中，模型首先设置为训练模式（model.train()），然后对训练数据集进行迭代。在每个迭代中，计算模型输出和损失，然后进行反向传播和优化器更新参数。同时计算并记录平均损失和训练精度。\n",
    "\n",
    "模型验证：在每个指定的验证周期（VAL_EPOCH）或者在最后一个 epoch 后，对模型进行验证。在验证过程中，模型设置为评估模式（model.eval()），然后对验证数据集进行迭代。计算验证精度并记录下来。\n",
    "\n",
    "可视化训练过程：使用 Matplotlib 库将训练过程中的损失和精度进行可视化展示。\n",
    "\n",
    "异常处理：使用 try 和 except 块来捕获可能出现的异常，并打印异常信息。\n",
    "\n",
    "最终输出：在训练结束或者发生异常时，打印出停止训练的信息。\n",
    "\n",
    "综上所述，以上代码是一个完整的混合卷积神经网络模型的训练过程，包括了模型的初始化、设备选择、损失函数、优化器、训练循环、模型验证、训练过程可视化等步骤。"
   ]
  },
  {
   "cell_type": "code",
   "execution_count": 23,
   "metadata": {},
   "outputs": [],
   "source": [
    "## get best model path and del other models\n",
    "def get_best_model(acc_list, epoch_list, save_path):\n",
    "    \"\"\"get best model path by valuation list\n",
    "\n",
    "    Args:\n",
    "        acc_list (list): list of valuation accuracy\n",
    "        epoch_list (list): list of valuation epoch\n",
    "        save_path (str): path of save dir\n",
    "\n",
    "    Returns:\n",
    "        best_model_path: path of best model\n",
    "    \"\"\"\n",
    "    acc_list = np.array(acc_list)\n",
    "    epoch_list = np.array(epoch_list)\n",
    "    best_index = np.argwhere(acc_list==np.max(acc_list))[-1].item()\n",
    "    best_epoch = epoch_list[best_index]\n",
    "    best_acc = acc_list[best_index]\n",
    "    file_name = f\"epoch_{best_epoch}_acc_{best_acc:.4f}.pth\"\n",
    "    best_model_path=os.path.join(save_path, file_name)\n",
    "    print(f\"best model:{file_name}\")\n",
    "    ##del save model except best model\n",
    "    for f in os.listdir(save_path):\n",
    "        if f[-3:]=='pth' and os.path.join(save_path,f)!=best_model_path:\n",
    "            os.remove(os.path.join(save_path,f))\n",
    "    return best_model_path"
   ]
  },
  {
   "cell_type": "markdown",
   "metadata": {},
   "source": [
    "以上代码是一个函数，用于根据验证精度列表选择最佳模型，并删除其他模型文件。\n",
    "\n",
    "get_best_model 函数接受三个参数：acc_list（验证精度列表）、epoch_list（验证 epoch 列表）和 save_path（模型保存路径）。\n",
    "\n",
    "函数首先将 acc_list 和 epoch_list 转换为 NumPy 数组，以便后续处理。\n",
    "\n",
    "接着，函数通过 np.argwhere(acc_list==np.max(acc_list))[-1].item() 找到验证精度列表中最大值所对应的索引，并获取最佳模型的 epoch 和验证精度。\n",
    "\n",
    "然后，函数根据最佳 epoch 和验证精度拼接出最佳模型的文件名，并构建出最佳模型的完整路径 best_model_path。\n",
    "\n",
    "接下来，函数遍历模型保存路径下的所有文件，如果文件是以 \".pth\" 结尾的模型文件且不是最佳模型文件，则删除该文件。\n",
    "\n",
    "最后，函数返回最佳模型的完整路径 best_model_path。\n",
    "\n",
    "综上所述，以上函数的功能是根据验证精度列表选择最佳模型，并删除其他模型文件。"
   ]
  },
  {
   "cell_type": "code",
   "execution_count": 24,
   "metadata": {},
   "outputs": [
    {
     "name": "stdout",
     "output_type": "stream",
     "text": [
      "best model:epoch_14_acc_0.9921.pth\n"
     ]
    },
    {
     "data": {
      "application/vnd.jupyter.widget-view+json": {
       "model_id": "86c7a1855c0f458a99b41fb85b776bcc",
       "version_major": 2,
       "version_minor": 0
      },
      "text/plain": [
       "  0%|          | 0/783 [00:00<?, ?it/s]"
      ]
     },
     "metadata": {},
     "output_type": "display_data"
    },
    {
     "data": {
      "image/png": "[encoded data removed]",
      "text/plain": [
       "<Figure size 700x700 with 1 Axes>"
      ]
     },
     "metadata": {},
     "output_type": "display_data"
    },
    {
     "data": {
      "image/png": "[encoded data removed]",
      "text/plain": [
       "<Figure size 700x700 with 1 Axes>"
      ]
     },
     "metadata": {},
     "output_type": "display_data"
    }
   ],
   "source": [
    "## inferring the whole image\n",
    "##load best model\n",
    "best_model_path = get_best_model(val_acc_list,val_epoch_list,SAVE_PATH)\n",
    "best_model = HybridSN(N_PCA,PATCH_SIZE,class_nums=NUM_CLASS)\n",
    "best_model.load_state_dict(torch.load(best_model_path))\n",
    "## inference\n",
    "best_model.to(device)\n",
    "best_model.eval()\n",
    "pred_map = []\n",
    "for batch_idx, data in tqdm(enumerate(all_loader),total=len(all_loader)):\n",
    "    data = data.to(device)\n",
    "    target = best_model(data)\n",
    "    _, pred = torch.max(target, dim = 1)\n",
    "    pred_map += [np.array(pred.detach().cpu() + 1)]   ## class 0 in pred_map is class 1 in gt\n",
    "pred_map = np.asarray(np.hstack(pred_map),dtype=np.uint8).reshape(label.shape[0],label.shape[1])\n",
    "spectral.imshow(classes=pred_map,title='prediction',figsize=(7,7))\n",
    "spectral.imshow(classes=pred_map*(label!=0),title='prediction_masked',figsize=(7,7))\n",
    "spectral.save_rgb(os.path.join(SAVE_PATH,f\"prediction.jpg\"),pred_map,colors = spectral.spy_colors)\n",
    "spectral.save_rgb(os.path.join(SAVE_PATH,f\"prediction_masked.jpg\"),pred_map*(label!=0),colors = spectral.spy_colors)"
   ]
  },
  {
   "cell_type": "markdown",
   "metadata": {},
   "source": [
    "以上代码是用于推断整个图像的过程，包括加载最佳模型、进行推断、可视化推断结果并保存结果图片。\n",
    "\n",
    "首先调用之前定义的 get_best_model 函数获取验证中表现最佳的模型路径 best_model_path。\n",
    "\n",
    "接着创建一个新的混合卷积神经网络模型 best_model，并加载之前保存的最佳模型参数。\n",
    "\n",
    "将模型移动到指定的设备上，并设置为评估模式。\n",
    "\n",
    "然后对整个图像进行推断。通过迭代数据加载器 all_loader 中的数据，将数据传入模型中进行推断，并将推断结果保存在 pred_map 中。\n",
    "\n",
    "将推断结果进行可视化展示，包括原始推断结果和去除背景的推断结果，并将可视化结果保存为图片文件。"
   ]
  },
  {
   "cell_type": "code",
   "execution_count": 25,
   "metadata": {},
   "outputs": [
    {
     "name": "stdout",
     "output_type": "stream",
     "text": [
      "OA: 0.9920948616600791\n",
      "AA: 0.9920366403481754\n",
      "Kappa: 0.9907467470620058\n",
      "                           precision    recall  f1-score   support\n",
      "\n",
      "            Grass-healthy     1.0000    1.0000    1.0000       207\n",
      "           Grass-stressed     1.0000    0.9954    0.9977       219\n",
      "                    Trees     0.9910    1.0000    0.9955       219\n",
      "                    Water     1.0000    1.0000    1.0000       171\n",
      "    Residential-buildings     1.0000    0.9686    0.9840       191\n",
      "Non-residential-buildings     0.9959    0.9878    0.9918       245\n",
      "                     Road     0.9670    0.9925    0.9796       266\n",
      "\n",
      "                 accuracy                         0.9921      1518\n",
      "                macro avg     0.9934    0.9920    0.9927      1518\n",
      "             weighted avg     0.9923    0.9921    0.9921      1518\n",
      "\n"
     ]
    }
   ],
   "source": [
    "## classfication report\n",
    "test_pred = pred_map[test_gt!=0]\n",
    "test_true = test_gt[test_gt!=0]\n",
    "\n",
    "OA = accuracy_score(test_true,test_pred)\n",
    "AA = recall_score(test_true,test_pred,average='macro')\n",
    "kappa = cohen_kappa_score(test_true,test_pred)\n",
    "report_log = F\"OA: {OA}\\nAA: {AA}\\nKappa: {kappa}\\n\"\n",
    "report_log += classification_report(test_true,test_pred,target_names=class_name,digits=4)\n",
    "print(report_log)\n",
    "fp = open(os.path.join(SAVE_PATH,'classfication_report.txt'),'w+')\n",
    "fp.writelines(report_log)\n",
    "fp.close()"
   ]
  },
  {
   "cell_type": "markdown",
   "metadata": {},
   "source": [
    "以上代码是用于生成分类报告的过程，包括计算准确率、召回率、Kappa 系数以及生成分类报告文本文件。\n",
    "\n",
    "首先，从推断结果 pred_map 和测试集标签 test_gt 中提取出非背景类别的像素值，分别存储在 test_pred 和 test_true 中。\n",
    "\n",
    "接着，使用 accuracy_score 函数计算整体精度（Overall Accuracy，OA），即所有类别的正确分类样本数占总样本数的比例。\n",
    "\n",
    "使用 recall_score 函数计算平均召回率（Average Accuracy，AA），采用宏平均方式计算各个类别的召回率，并对各个类别的召回率取平均值。\n",
    "\n",
    "使用 cohen_kappa_score 函数计算 Kappa 系数，用于评估分类器的性能，考虑了分类结果与随机分类结果之间的一致性。\n",
    "\n",
    "构建分类报告文本 report_log，包括 OA、AA、Kappa 系数以及使用 classification_report 函数生成的详细分类报告，设置了每个类别的统计数字保留小数点后四位。\n",
    "\n",
    "最后，将分类报告文本写入到文件 classfication_report.txt 中，并打印在控制台上。\n",
    "\n",
    "综上所述，以上代码是用于生成分类报告的过程，包括计算准确率、召回率、Kappa 系数以及生成分类报告文本文件。"
   ]
  }
 ],
 "metadata": {
  "interpreter": {
   "hash": "cf59b85677ef8bbc27ae54bd5fffd1227219dbab0c241877bdfafd2c89938c2d"
  },
  "kernelspec": {
   "display_name": "Python 3 (ipykernel)",
   "language": "python",
   "name": "python3"
  },
  "language_info": {
   "codemirror_mode": {
    "name": "ipython",
    "version": 3
   },
   "file_extension": ".py",
   "mimetype": "text/x-python",
   "name": "python",
   "nbconvert_exporter": "python",
   "pygments_lexer": "ipython3",
   "version": "3.11.3"
  }
 },
 "nbformat": 4,
 "nbformat_minor": 2
}
